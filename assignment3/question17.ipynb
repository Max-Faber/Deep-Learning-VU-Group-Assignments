{
 "cells": [
  {
   "cell_type": "code",
   "execution_count": 1,
   "outputs": [],
   "source": [
    "import torchvision.transforms as transforms\n",
    "import torchvision\n",
    "\n",
    "from question7 import split_train_validation\n",
    "from question8 import get_batch_size"
   ],
   "metadata": {
    "collapsed": false,
    "pycharm": {
     "name": "#%%\n"
    }
   }
  },
  {
   "cell_type": "code",
   "execution_count": 33,
   "outputs": [],
   "source": [
    "batch_size = get_batch_size()\n",
    "results_dict = {}"
   ],
   "metadata": {
    "collapsed": false,
    "pycharm": {
     "name": "#%%\n"
    }
   }
  },
  {
   "cell_type": "code",
   "execution_count": 35,
   "outputs": [
    {
     "name": "stdout",
     "output_type": "stream",
     "text": [
      "Using device: mps\n",
      "Epoch 1/10, loss: 1.773, accuracy: 0.698, time: 30.116422 seconds\n",
      "Epoch 1, val accuracy: 0.864\n",
      "Epoch 2/10, loss: 1.581, accuracy: 0.886, time: 29.667627 seconds\n",
      "Epoch 2, val accuracy: 0.910\n",
      "Epoch 3/10, loss: 1.546, accuracy: 0.919, time: 29.557088 seconds\n",
      "Epoch 3, val accuracy: 0.929\n",
      "Epoch 4/10, loss: 1.531, accuracy: 0.933, time: 29.412995 seconds\n",
      "Epoch 4, val accuracy: 0.940\n",
      "Epoch 5/10, loss: 1.521, accuracy: 0.942, time: 27.021630 seconds\n",
      "Epoch 5, val accuracy: 0.944\n",
      "Epoch 6/10, loss: 1.515, accuracy: 0.948, time: 27.068482 seconds\n",
      "Epoch 6, val accuracy: 0.940\n",
      "Epoch 7/10, loss: 1.509, accuracy: 0.953, time: 26.994881 seconds\n",
      "Epoch 7, val accuracy: 0.943\n",
      "Epoch 8/10, loss: 1.504, accuracy: 0.958, time: 27.001167 seconds\n",
      "Epoch 8, val accuracy: 0.957\n",
      "Epoch 9/10, loss: 1.501, accuracy: 0.961, time: 26.872116 seconds\n",
      "Epoch 9, val accuracy: 0.945\n",
      "Epoch 10/10, loss: 1.498, accuracy: 0.964, time: 27.002377 seconds\n",
      "Epoch 10, val accuracy: 0.960\n",
      "Using device: mps\n"
     ]
    },
    {
     "ename": "RuntimeError",
     "evalue": "shape '[16, 576]' is invalid for input of size 36864",
     "output_type": "error",
     "traceback": [
      "\u001B[0;31m---------------------------------------------------------------------------\u001B[0m",
      "\u001B[0;31mRuntimeError\u001B[0m                              Traceback (most recent call last)",
      "Input \u001B[0;32mIn [35]\u001B[0m, in \u001B[0;36m<cell line: 2>\u001B[0;34m()\u001B[0m\n\u001B[1;32m      9\u001B[0m imagefolder_test \u001B[38;5;241m=\u001B[39m torchvision\u001B[38;5;241m.\u001B[39mdatasets\u001B[38;5;241m.\u001B[39mImageFolder(\u001B[38;5;124m'\u001B[39m\u001B[38;5;124mMNIST_dataset/MNIST_variable_resolution/mnist-varres/test\u001B[39m\u001B[38;5;124m'\u001B[39m, transform\u001B[38;5;241m=\u001B[39mtransform)\n\u001B[1;32m     10\u001B[0m train_batches, val_batches \u001B[38;5;241m=\u001B[39m split_train_validation(\n\u001B[1;32m     11\u001B[0m     training_data\u001B[38;5;241m=\u001B[39mimagefolder_train,\n\u001B[1;32m     12\u001B[0m     batch_size\u001B[38;5;241m=\u001B[39mbatch_size\n\u001B[1;32m     13\u001B[0m )\n\u001B[0;32m---> 14\u001B[0m results \u001B[38;5;241m=\u001B[39m \u001B[43mcnn\u001B[49m\u001B[43m(\u001B[49m\u001B[43mtrain\u001B[49m\u001B[38;5;241;43m=\u001B[39;49m\u001B[43mtrain_batches\u001B[49m\u001B[43m,\u001B[49m\u001B[43m \u001B[49m\u001B[43mval\u001B[49m\u001B[38;5;241;43m=\u001B[39;49m\u001B[43mval_batches\u001B[49m\u001B[43m,\u001B[49m\u001B[43m \u001B[49m\u001B[43mbatch_size\u001B[49m\u001B[38;5;241;43m=\u001B[39;49m\u001B[43mbatch_size\u001B[49m\u001B[43m)\u001B[49m\n\u001B[1;32m     15\u001B[0m results_dict[resolution] \u001B[38;5;241m=\u001B[39m results\n",
      "File \u001B[0;32m/Volumes/SAMSUNG/code/Deep-Learning-VU-Group-Assignments/assignment3/question8.py:123\u001B[0m, in \u001B[0;36mcnn\u001B[0;34m(train, val, batch_size)\u001B[0m\n\u001B[1;32m    120\u001B[0m criterion \u001B[38;5;241m=\u001B[39m nn\u001B[38;5;241m.\u001B[39mCrossEntropyLoss()\n\u001B[1;32m    121\u001B[0m optimizer \u001B[38;5;241m=\u001B[39m optim\u001B[38;5;241m.\u001B[39mAdam(cnn\u001B[38;5;241m.\u001B[39mparameters(), lr\u001B[38;5;241m=\u001B[39mlearning_rate)\n\u001B[0;32m--> 123\u001B[0m val_results \u001B[38;5;241m=\u001B[39m \u001B[43mtraining_loop\u001B[49m\u001B[43m(\u001B[49m\u001B[43mepochs\u001B[49m\u001B[38;5;241;43m=\u001B[39;49m\u001B[43mepochs\u001B[49m\u001B[43m,\u001B[49m\u001B[43m \u001B[49m\u001B[43mtrain_dataset\u001B[49m\u001B[38;5;241;43m=\u001B[39;49m\u001B[43mtrain\u001B[49m\u001B[43m,\u001B[49m\u001B[43m \u001B[49m\u001B[43mval_dataset\u001B[49m\u001B[38;5;241;43m=\u001B[39;49m\u001B[43mval\u001B[49m\u001B[43m,\u001B[49m\u001B[43m \u001B[49m\u001B[43mcnn\u001B[49m\u001B[38;5;241;43m=\u001B[39;49m\u001B[43mcnn\u001B[49m\u001B[43m,\u001B[49m\u001B[43m \u001B[49m\u001B[43mcriterion\u001B[49m\u001B[38;5;241;43m=\u001B[39;49m\u001B[43mcriterion\u001B[49m\u001B[43m,\u001B[49m\u001B[43m \u001B[49m\u001B[43moptimizer\u001B[49m\u001B[38;5;241;43m=\u001B[39;49m\u001B[43moptimizer\u001B[49m\u001B[43m,\u001B[49m\u001B[43m \u001B[49m\u001B[43mbatch_size\u001B[49m\u001B[38;5;241;43m=\u001B[39;49m\u001B[43mbatch_size\u001B[49m\u001B[43m,\u001B[49m\u001B[43m \u001B[49m\u001B[43mdevice\u001B[49m\u001B[38;5;241;43m=\u001B[39;49m\u001B[43mdevice\u001B[49m\u001B[43m)\u001B[49m\n\u001B[1;32m    124\u001B[0m \u001B[38;5;28;01mreturn\u001B[39;00m val_results\n",
      "File \u001B[0;32m/Volumes/SAMSUNG/code/Deep-Learning-VU-Group-Assignments/assignment3/question8.py:59\u001B[0m, in \u001B[0;36mtraining_loop\u001B[0;34m(epochs, train_dataset, val_dataset, cnn, criterion, optimizer, batch_size, device)\u001B[0m\n\u001B[1;32m     56\u001B[0m inputs, labels \u001B[38;5;241m=\u001B[39m inputs\u001B[38;5;241m.\u001B[39mto(device), labels\u001B[38;5;241m.\u001B[39mto(device)\n\u001B[1;32m     58\u001B[0m optimizer\u001B[38;5;241m.\u001B[39mzero_grad()\n\u001B[0;32m---> 59\u001B[0m outputs \u001B[38;5;241m=\u001B[39m \u001B[43mcnn\u001B[49m\u001B[43m(\u001B[49m\u001B[43minputs\u001B[49m\u001B[43m)\u001B[49m\n\u001B[1;32m     60\u001B[0m predicted_classes \u001B[38;5;241m=\u001B[39m torch\u001B[38;5;241m.\u001B[39margmax(outputs, dim\u001B[38;5;241m=\u001B[39m\u001B[38;5;241m1\u001B[39m)\n\u001B[1;32m     61\u001B[0m n_correct \u001B[38;5;241m+\u001B[39m\u001B[38;5;241m=\u001B[39m (predicted_classes \u001B[38;5;241m==\u001B[39m labels)\u001B[38;5;241m.\u001B[39msum()\u001B[38;5;241m.\u001B[39mitem()\n",
      "File \u001B[0;32m/opt/homebrew/anaconda3/lib/python3.9/site-packages/torch/nn/modules/module.py:1190\u001B[0m, in \u001B[0;36mModule._call_impl\u001B[0;34m(self, *input, **kwargs)\u001B[0m\n\u001B[1;32m   1186\u001B[0m \u001B[38;5;66;03m# If we don't have any hooks, we want to skip the rest of the logic in\u001B[39;00m\n\u001B[1;32m   1187\u001B[0m \u001B[38;5;66;03m# this function, and just call forward.\u001B[39;00m\n\u001B[1;32m   1188\u001B[0m \u001B[38;5;28;01mif\u001B[39;00m \u001B[38;5;129;01mnot\u001B[39;00m (\u001B[38;5;28mself\u001B[39m\u001B[38;5;241m.\u001B[39m_backward_hooks \u001B[38;5;129;01mor\u001B[39;00m \u001B[38;5;28mself\u001B[39m\u001B[38;5;241m.\u001B[39m_forward_hooks \u001B[38;5;129;01mor\u001B[39;00m \u001B[38;5;28mself\u001B[39m\u001B[38;5;241m.\u001B[39m_forward_pre_hooks \u001B[38;5;129;01mor\u001B[39;00m _global_backward_hooks\n\u001B[1;32m   1189\u001B[0m         \u001B[38;5;129;01mor\u001B[39;00m _global_forward_hooks \u001B[38;5;129;01mor\u001B[39;00m _global_forward_pre_hooks):\n\u001B[0;32m-> 1190\u001B[0m     \u001B[38;5;28;01mreturn\u001B[39;00m \u001B[43mforward_call\u001B[49m\u001B[43m(\u001B[49m\u001B[38;5;241;43m*\u001B[39;49m\u001B[38;5;28;43minput\u001B[39;49m\u001B[43m,\u001B[49m\u001B[43m \u001B[49m\u001B[38;5;241;43m*\u001B[39;49m\u001B[38;5;241;43m*\u001B[39;49m\u001B[43mkwargs\u001B[49m\u001B[43m)\u001B[49m\n\u001B[1;32m   1191\u001B[0m \u001B[38;5;66;03m# Do not call functions when jit is used\u001B[39;00m\n\u001B[1;32m   1192\u001B[0m full_backward_hooks, non_full_backward_hooks \u001B[38;5;241m=\u001B[39m [], []\n",
      "File \u001B[0;32m/Volumes/SAMSUNG/code/Deep-Learning-VU-Group-Assignments/assignment3/question8.py:36\u001B[0m, in \u001B[0;36mCNN_MNIST.forward\u001B[0;34m(self, x)\u001B[0m\n\u001B[1;32m     34\u001B[0m x \u001B[38;5;241m=\u001B[39m \u001B[38;5;28mself\u001B[39m\u001B[38;5;241m.\u001B[39mrelu(x)\n\u001B[1;32m     35\u001B[0m x \u001B[38;5;241m=\u001B[39m \u001B[38;5;28mself\u001B[39m\u001B[38;5;241m.\u001B[39mmax_pool3(x)\n\u001B[0;32m---> 36\u001B[0m x \u001B[38;5;241m=\u001B[39m \u001B[43mtorch\u001B[49m\u001B[38;5;241;43m.\u001B[39;49m\u001B[43mreshape\u001B[49m\u001B[43m(\u001B[49m\u001B[38;5;28;43minput\u001B[39;49m\u001B[38;5;241;43m=\u001B[39;49m\u001B[43mx\u001B[49m\u001B[43m,\u001B[49m\u001B[43m \u001B[49m\u001B[43mshape\u001B[49m\u001B[38;5;241;43m=\u001B[39;49m\u001B[43m(\u001B[49m\u001B[38;5;28;43mself\u001B[39;49m\u001B[38;5;241;43m.\u001B[39;49m\u001B[43mbatch_size\u001B[49m\u001B[43m,\u001B[49m\u001B[43m \u001B[49m\u001B[38;5;241;43m64\u001B[39;49m\u001B[43m \u001B[49m\u001B[38;5;241;43m*\u001B[39;49m\u001B[43m \u001B[49m\u001B[38;5;241;43m3\u001B[39;49m\u001B[43m \u001B[49m\u001B[38;5;241;43m*\u001B[39;49m\u001B[43m \u001B[49m\u001B[38;5;241;43m3\u001B[39;49m\u001B[43m)\u001B[49m\u001B[43m)\u001B[49m\n\u001B[1;32m     37\u001B[0m x \u001B[38;5;241m=\u001B[39m \u001B[38;5;28mself\u001B[39m\u001B[38;5;241m.\u001B[39mlinear1(x)\n\u001B[1;32m     38\u001B[0m x \u001B[38;5;241m=\u001B[39m \u001B[38;5;28mself\u001B[39m\u001B[38;5;241m.\u001B[39msoftmax(x)\n",
      "\u001B[0;31mRuntimeError\u001B[0m: shape '[16, 576]' is invalid for input of size 36864"
     ]
    }
   ],
   "source": [
    "from question8 import cnn\n",
    "for resolution in [28, 48, 64]:\n",
    "    transform = transforms.Compose([\n",
    "        transforms.Resize((resolution, resolution)),\n",
    "        transforms.Grayscale(),\n",
    "        transforms.ToTensor()\n",
    "    ])\n",
    "    imagefolder_train = torchvision.datasets.ImageFolder('MNIST_dataset/MNIST_variable_resolution/mnist-varres/train', transform=transform)\n",
    "    imagefolder_test = torchvision.datasets.ImageFolder('MNIST_dataset/MNIST_variable_resolution/mnist-varres/test', transform=transform)\n",
    "    train_batches, val_batches = split_train_validation(\n",
    "        training_data=imagefolder_train,\n",
    "        batch_size=batch_size\n",
    "    )\n",
    "    results = cnn(train=train_batches, val=val_batches, batch_size=batch_size)\n",
    "    results_dict[resolution] = results"
   ],
   "metadata": {
    "collapsed": false,
    "pycharm": {
     "name": "#%%\n"
    }
   }
  },
  {
   "cell_type": "code",
   "execution_count": 3,
   "outputs": [],
   "source": [
    "results_dict = {\n",
    "    28: {'accuracy': [ 0.8571,\n",
    "                       0.9236,\n",
    "                       0.9269,\n",
    "                       0.9285,\n",
    "                       0.9405,\n",
    "                       0.935,\n",
    "                       0.9505,\n",
    "                       0.9406,\n",
    "                       0.9522,\n",
    "                       0.9583],\n",
    "        'loss': [  1006.4898148775101,\n",
    "                   964.2776372432709,\n",
    "                   960.8919014930725,\n",
    "                   959.2050619125366,\n",
    "                   951.4283446073532,\n",
    "                   954.7814990282059,\n",
    "                   944.6264793872833,\n",
    "                   950.778199672699,\n",
    "                   943.1653652191162,\n",
    "                   939.8524235486984],\n",
    "        'epoch': [1, 2, 3, 4, 5, 6, 7, 8, 9, 10]},\n",
    "    48: {'accuracy': [ 0.8759,\n",
    "                       0.9123,\n",
    "                       0.9258,\n",
    "                       0.9262,\n",
    "                       0.9437,\n",
    "                       0.9499,\n",
    "                       0.95,\n",
    "                       0.9547,\n",
    "                       0.9543,\n",
    "                       0.9491],\n",
    "        'loss': [  993.4597470760345,\n",
    "                   970.0149114131927,\n",
    "                   960.7718952894211,\n",
    "                   959.620206952095,\n",
    "                   949.0527579784393,\n",
    "                   944.8582022190094,\n",
    "                   944.7368346452713,\n",
    "                   941.9656628370285,\n",
    "                   941.8725641965866,\n",
    "                   944.8725949525833],\n",
    "        'epoch': [1, 2, 3, 4, 5, 6, 7, 8, 9, 10]},\n",
    "    64: { 'accuracy': [ 0.8266,\n",
    "                       0.8727,\n",
    "                       0.9101,\n",
    "                       0.9282,\n",
    "                       0.9298,\n",
    "                       0.9303,\n",
    "                       0.9362,\n",
    "                       0.9474,\n",
    "                       0.9443,\n",
    "                       0.947],\n",
    "          'loss': [1023.6340608596802,\n",
    "                   993.1484915018082,\n",
    "                   970.0552930831909,\n",
    "                   958.2059597969055,\n",
    "                   956.7992377281189,\n",
    "                   956.7978863716125,\n",
    "                   952.6382333040237,\n",
    "                   946.689929485321,\n",
    "                   947.9359329938889,\n",
    "                   946.3621957302094],\n",
    "          'epoch': [1, 2, 3, 4, 5, 6, 7, 8, 9, 10]}}"
   ],
   "metadata": {
    "collapsed": false,
    "pycharm": {
     "name": "#%%\n"
    }
   }
  },
  {
   "cell_type": "code",
   "execution_count": 4,
   "outputs": [
    {
     "data": {
      "text/plain": "{28: {'accuracy': [0.8571,\n   0.9236,\n   0.9269,\n   0.9285,\n   0.9405,\n   0.935,\n   0.9505,\n   0.9406,\n   0.9522,\n   0.9583],\n  'loss': [1006.4898148775101,\n   964.2776372432709,\n   960.8919014930725,\n   959.2050619125366,\n   951.4283446073532,\n   954.7814990282059,\n   944.6264793872833,\n   950.778199672699,\n   943.1653652191162,\n   939.8524235486984],\n  'epoch': [1, 2, 3, 4, 5, 6, 7, 8, 9, 10]},\n 48: {'accuracy': [0.8759,\n   0.9123,\n   0.9258,\n   0.9262,\n   0.9437,\n   0.9499,\n   0.95,\n   0.9547,\n   0.9543,\n   0.9491],\n  'loss': [993.4597470760345,\n   970.0149114131927,\n   960.7718952894211,\n   959.620206952095,\n   949.0527579784393,\n   944.8582022190094,\n   944.7368346452713,\n   941.9656628370285,\n   941.8725641965866,\n   944.8725949525833],\n  'epoch': [1, 2, 3, 4, 5, 6, 7, 8, 9, 10]},\n 64: {'accuracy': [0.8266,\n   0.8727,\n   0.9101,\n   0.9282,\n   0.9298,\n   0.9303,\n   0.9362,\n   0.9474,\n   0.9443,\n   0.947],\n  'loss': [1023.6340608596802,\n   993.1484915018082,\n   970.0552930831909,\n   958.2059597969055,\n   956.7992377281189,\n   956.7978863716125,\n   952.6382333040237,\n   946.689929485321,\n   947.9359329938889,\n   946.3621957302094],\n  'epoch': [1, 2, 3, 4, 5, 6, 7, 8, 9, 10]}}"
     },
     "execution_count": 4,
     "metadata": {},
     "output_type": "execute_result"
    }
   ],
   "source": [
    "results_dict"
   ],
   "metadata": {
    "collapsed": false,
    "pycharm": {
     "name": "#%%\n"
    }
   }
  },
  {
   "cell_type": "code",
   "execution_count": 11,
   "outputs": [
    {
     "data": {
      "text/plain": "<Figure size 432x288 with 1 Axes>",
      "image/png": "[encoded data removed]"
     },
     "metadata": {
      "needs_background": "light"
     },
     "output_type": "display_data"
    }
   ],
   "source": [
    "import matplotlib.pyplot as plt\n",
    "acc_sgd099 = results_dict[28]['accuracy']\n",
    "acc_48 = results_dict[48]['accuracy']\n",
    "acc_64 = results_dict[64]['accuracy']\n",
    "\n",
    "epochs = results_dict[28]['epoch']\n",
    "epochs = [str(epoch) for epoch in epochs]\n",
    "\n",
    "plt.plot(epochs, acc_sgd099, 'r', label='28x28')\n",
    "plt.plot(epochs, acc_48, 'g', label='48x48')\n",
    "plt.plot(epochs, acc_64, 'b', label='64x64')\n",
    "plt.title('Validation accuracy for different resizing of the inputs')\n",
    "plt.xlabel('Epochs')\n",
    "plt.ylabel('Accuracy')\n",
    "plt.legend()\n",
    "plt.savefig('Images/acc_resize.png')\n",
    "plt.show()"
   ],
   "metadata": {
    "collapsed": false,
    "pycharm": {
     "name": "#%%\n"
    }
   }
  },
  {
   "cell_type": "code",
   "execution_count": 3,
   "outputs": [],
   "source": [
    "import torch.nn as nn\n",
    "import torch.optim as optim\n",
    "\n",
    "from question8 import get_device, CNN_MNIST, training_loop\n",
    "\n",
    "def cnn_opt(train, val, batch_size, opt, momentum=None, learning_rate=0.001):\n",
    "    epochs = 10\n",
    "    device = get_device()\n",
    "\n",
    "    cnn = CNN_MNIST(batch_size=batch_size, device=device)\n",
    "    cnn.to(device)\n",
    "    criterion = nn.CrossEntropyLoss()\n",
    "    if opt == 'adam':\n",
    "        optimizer = optim.Adam(cnn.parameters(), lr=learning_rate)\n",
    "    else:\n",
    "        optimizer = optim.SGD(cnn.parameters(), lr=learning_rate, momentum=momentum)\n",
    "\n",
    "    val_results = training_loop(epochs=epochs, train_dataset=train, val_dataset=val, cnn=cnn, criterion=criterion, optimizer=optimizer, batch_size=batch_size, device=device)\n",
    "    return val_results"
   ],
   "metadata": {
    "collapsed": false,
    "pycharm": {
     "name": "#%%\n"
    }
   }
  },
  {
   "cell_type": "code",
   "execution_count": 4,
   "outputs": [
    {
     "name": "stdout",
     "output_type": "stream",
     "text": [
      "Using device: mps\n",
      "Epoch 1/10, loss: 2.160, accuracy: 0.282, time: 23.234879 seconds\n",
      "Epoch 1, val accuracy: 0.551\n",
      "Epoch 2/10, loss: 1.787, accuracy: 0.679, time: 23.338657 seconds\n",
      "Epoch 2, val accuracy: 0.772\n",
      "Epoch 3/10, loss: 1.676, accuracy: 0.787, time: 22.882869 seconds\n",
      "Epoch 3, val accuracy: 0.789\n",
      "Epoch 4/10, loss: 1.634, accuracy: 0.828, time: 23.121672 seconds\n",
      "Epoch 4, val accuracy: 0.872\n",
      "Epoch 5/10, loss: 1.562, accuracy: 0.902, time: 23.486313 seconds\n",
      "Epoch 5, val accuracy: 0.908\n",
      "Epoch 6/10, loss: 1.541, accuracy: 0.922, time: 23.377463 seconds\n",
      "Epoch 6, val accuracy: 0.926\n",
      "Epoch 7/10, loss: 1.531, accuracy: 0.931, time: 23.536602 seconds\n",
      "Epoch 7, val accuracy: 0.939\n",
      "Epoch 8/10, loss: 1.523, accuracy: 0.939, time: 23.342784 seconds\n",
      "Epoch 8, val accuracy: 0.939\n",
      "Epoch 9/10, loss: 1.517, accuracy: 0.945, time: 22.947591 seconds\n",
      "Epoch 9, val accuracy: 0.943\n",
      "Epoch 10/10, loss: 1.514, accuracy: 0.947, time: 21.810814 seconds\n",
      "Epoch 10, val accuracy: 0.939\n",
      "Using device: mps\n",
      "Epoch 1/10, loss: 2.245, accuracy: 0.192, time: 21.722597 seconds\n",
      "Epoch 1, val accuracy: 0.380\n",
      "Epoch 2/10, loss: 1.900, accuracy: 0.562, time: 23.252012 seconds\n",
      "Epoch 2, val accuracy: 0.637\n",
      "Epoch 3/10, loss: 1.776, accuracy: 0.687, time: 22.991228 seconds\n",
      "Epoch 3, val accuracy: 0.709\n",
      "Epoch 4/10, loss: 1.730, accuracy: 0.732, time: 23.002811 seconds\n",
      "Epoch 4, val accuracy: 0.732\n",
      "Epoch 5/10, loss: 1.713, accuracy: 0.749, time: 23.414753 seconds\n",
      "Epoch 5, val accuracy: 0.747\n",
      "Epoch 6/10, loss: 1.704, accuracy: 0.758, time: 23.543713 seconds\n",
      "Epoch 6, val accuracy: 0.751\n",
      "Epoch 7/10, loss: 1.697, accuracy: 0.765, time: 23.302217 seconds\n",
      "Epoch 7, val accuracy: 0.753\n",
      "Epoch 8/10, loss: 1.694, accuracy: 0.767, time: 23.192835 seconds\n",
      "Epoch 8, val accuracy: 0.758\n",
      "Epoch 9/10, loss: 1.688, accuracy: 0.773, time: 23.420714 seconds\n",
      "Epoch 9, val accuracy: 0.755\n",
      "Epoch 10/10, loss: 1.686, accuracy: 0.776, time: 23.209268 seconds\n",
      "Epoch 10, val accuracy: 0.754\n"
     ]
    }
   ],
   "source": [
    "transform = transforms.Compose([\n",
    "        transforms.Resize((28, 28)),\n",
    "        transforms.Grayscale(),\n",
    "        transforms.ToTensor()\n",
    "    ])\n",
    "imagefolder_train = torchvision.datasets.ImageFolder('MNIST_dataset/MNIST_variable_resolution/mnist-varres/train', transform=transform)\n",
    "imagefolder_test = torchvision.datasets.ImageFolder('MNIST_dataset/MNIST_variable_resolution/mnist-varres/test', transform=transform)\n",
    "for opt in ['sgd', 'adam']:\n",
    "    for momentum in [0.9, 0.99]:\n",
    "        train_batches, val_batches = split_train_validation(\n",
    "            training_data=imagefolder_train,\n",
    "            batch_size=batch_size\n",
    "        )\n",
    "        learning_rate = 0.01 if opt == 'sgd' else 0.001\n",
    "        results = cnn_opt(train=train_batches, val=val_batches, batch_size=batch_size, opt=opt, momentum=momentum, learning_rate=learning_rate)\n",
    "        if opt == 'sgd':\n",
    "            opt = f'{opt}_{momentum}'\n",
    "        results_dict[opt] = results\n",
    "        if opt == 'adam':\n",
    "            break"
   ],
   "metadata": {
    "collapsed": false,
    "pycharm": {
     "name": "#%%\n"
    }
   }
  },
  {
   "cell_type": "code",
   "execution_count": 7,
   "outputs": [
    {
     "data": {
      "text/plain": "{'sgd_0.9': {'accuracy': [0.3804,\n   0.637,\n   0.7092,\n   0.732,\n   0.7466,\n   0.751,\n   0.7534,\n   0.7585,\n   0.7555,\n   0.7545],\n  'loss': [1295.7202761173248,\n   1142.0608417987823,\n   1095.3637093305588,\n   1081.051843881607,\n   1071.9257898330688,\n   1069.2627334594727,\n   1067.451459646225,\n   1064.200266957283,\n   1065.666375875473,\n   1066.028148174286],\n  'epoch': [1, 2, 3, 4, 5, 6, 7, 8, 9, 10]}}"
     },
     "execution_count": 7,
     "metadata": {},
     "output_type": "execute_result"
    }
   ],
   "source": [
    "results_dict"
   ],
   "metadata": {
    "collapsed": false,
    "pycharm": {
     "name": "#%%\n"
    }
   }
  },
  {
   "cell_type": "code",
   "execution_count": 9,
   "outputs": [
    {
     "data": {
      "text/plain": "<Figure size 432x288 with 1 Axes>",
      "image/png": "[encoded data removed]"
     },
     "metadata": {
      "needs_background": "light"
     },
     "output_type": "display_data"
    }
   ],
   "source": [
    "import matplotlib.pyplot as plt\n",
    "\n",
    "acc_adam = [0.8571, 0.9236, 0.9269, 0.9285, 0.9405, 0.935, 0.9505, 0.9406, 0.9522, 0.9583]\n",
    "acc_sgd09 = [0.551, 0.772, 0.789, 0.872, 0.908, 0.926, 0.939, 0.939, 0.943, 0.939]\n",
    "acc_sgd099 = results_dict['sgd_0.9']['accuracy']\n",
    "\n",
    "epochs = results_dict['sgd_0.9']['epoch']\n",
    "epochs = [str(epoch) for epoch in epochs]\n",
    "\n",
    "plt.plot(epochs, acc_adam, 'r', label='Adam')\n",
    "plt.plot(epochs, acc_sgd09, 'g', label='SGD (lr=0.01, momentum=0.9)')\n",
    "plt.plot(epochs, acc_sgd099, 'b', label='SGD (lr=0.01, momentum=0.99)')\n",
    "plt.title('Validation accuracy for different optimizers')\n",
    "plt.xlabel('Epochs')\n",
    "plt.ylabel('Accuracy')\n",
    "plt.legend()\n",
    "plt.savefig('Images/acc_optimizers.png')\n",
    "plt.show()"
   ],
   "metadata": {
    "collapsed": false,
    "pycharm": {
     "name": "#%%\n"
    }
   }
  },
  {
   "cell_type": "code",
   "execution_count": null,
   "outputs": [],
   "source": [
    "results_dict = {28: {'accuracy': [0.8571,\n",
    "   0.9236,\n",
    "   0.9269,\n",
    "   0.9285,\n",
    "   0.9405,\n",
    "   0.935,\n",
    "   0.9505,\n",
    "   0.9406,\n",
    "   0.9522,\n",
    "   0.9583],\n",
    "  'loss': [1006.4898148775101,\n",
    "   964.2776372432709,\n",
    "   960.8919014930725,\n",
    "   959.2050619125366,\n",
    "   951.4283446073532,\n",
    "   954.7814990282059,\n",
    "   944.6264793872833,\n",
    "   950.778199672699,\n",
    "   943.1653652191162,\n",
    "   939.8524235486984],\n",
    "  'epoch': [1, 2, 3, 4, 5, 6, 7, 8, 9, 10]},\n",
    " 48: {'accuracy': [0.8759,\n",
    "   0.9123,\n",
    "   0.9258,\n",
    "   0.9262,\n",
    "   0.9437,\n",
    "   0.9499,\n",
    "   0.95,\n",
    "   0.9547,\n",
    "   0.9543,\n",
    "   0.9491],\n",
    "  'loss': [993.4597470760345,\n",
    "   970.0149114131927,\n",
    "   960.7718952894211,\n",
    "   959.620206952095,\n",
    "   949.0527579784393,\n",
    "   944.8582022190094,\n",
    "   944.7368346452713,\n",
    "   941.9656628370285,\n",
    "   941.8725641965866,\n",
    "   944.8725949525833],\n",
    "  'epoch': [1, 2, 3, 4, 5, 6, 7, 8, 9, 10]},\n",
    " 64: {'accuracy': [0.8266,\n",
    "   0.8727,\n",
    "   0.9101,\n",
    "   0.9282,\n",
    "   0.9298,\n",
    "   0.9303,\n",
    "   0.9362,\n",
    "   0.9474,\n",
    "   0.9443,\n",
    "   0.947],\n",
    "  'loss': [1023.6340608596802,\n",
    "   993.1484915018082,\n",
    "   970.0552930831909,\n",
    "   958.2059597969055,\n",
    "   956.7992377281189,\n",
    "   956.7978863716125,\n",
    "   952.6382333040237,\n",
    "   946.689929485321,\n",
    "   947.9359329938889,\n",
    "   946.3621957302094],\n",
    "  'epoch': [1, 2, 3, 4, 5, 6, 7, 8, 9, 10]},\n",
    " 'adam': {'accuracy': [0.8975,\n",
    "   0.9271,\n",
    "   0.9113,\n",
    "   0.9413,\n",
    "   0.9492,\n",
    "   0.9585,\n",
    "   0.959,\n",
    "   0.9564,\n",
    "   0.9482,\n",
    "   0.9498],\n",
    "  'loss': [983.2159193754196,\n",
    "   961.7179650068283,\n",
    "   970.1030888557434,\n",
    "   951.1444957256317,\n",
    "   946.5833251476288,\n",
    "   939.9924525022507,\n",
    "   939.2023485898972,\n",
    "   941.0717053413391,\n",
    "   945.5408849716187,\n",
    "   944.8985065221786],\n",
    "  'epoch': [1, 2, 3, 4, 5, 6, 7, 8, 9, 10]},\n",
    " 'sgd_0.9': {'accuracy': [0.2855,\n",
    "   0.6171,\n",
    "   0.7187,\n",
    "   0.7394,\n",
    "   0.7521,\n",
    "   0.7531,\n",
    "   0.7544,\n",
    "   0.7609,\n",
    "   0.7687,\n",
    "   0.7651],\n",
    "  'loss': [1358.708663702011,\n",
    "   1155.2341611385345,\n",
    "   1088.9576561450958,\n",
    "   1076.493064880371,\n",
    "   1068.489503979683,\n",
    "   1066.8040791749954,\n",
    "   1066.5796777009964,\n",
    "   1062.1070839166641,\n",
    "   1057.7732132673264,\n",
    "   1059.9943206310272],\n",
    "  'epoch': [1, 2, 3, 4, 5, 6, 7, 8, 9, 10]}}"
   ],
   "metadata": {
    "collapsed": false,
    "pycharm": {
     "name": "#%%\n"
    }
   }
  },
  {
   "cell_type": "code",
   "execution_count": 5,
   "outputs": [
    {
     "name": "stdout",
     "output_type": "stream",
     "text": [
      "Optimizer: sgd, momentum: 0.9\n",
      "Using device: mps\n",
      "n_params: 29029\n",
      "Epoch 1/10, loss: 0.350, accuracy: 0.883, time: 24.781184 seconds\n",
      "Epoch 1, val accuracy: 0.973\n",
      "Epoch 2/10, loss: 0.065, accuracy: 0.979, time: 24.196151 seconds\n",
      "Epoch 2, val accuracy: 0.977\n",
      "Epoch 3/10, loss: 0.045, accuracy: 0.985, time: 24.033147 seconds\n",
      "Epoch 3, val accuracy: 0.982\n",
      "Epoch 4/10, loss: 0.035, accuracy: 0.988, time: 24.160805 seconds\n",
      "Epoch 4, val accuracy: 0.982\n",
      "Epoch 5/10, loss: 0.029, accuracy: 0.990, time: 24.170930 seconds\n",
      "Epoch 5, val accuracy: 0.983\n",
      "Epoch 6/10, loss: 0.027, accuracy: 0.991, time: 24.093473 seconds\n",
      "Epoch 6, val accuracy: 0.982\n",
      "Epoch 7/10, loss: 0.023, accuracy: 0.992, time: 24.204035 seconds\n",
      "Epoch 7, val accuracy: 0.980\n",
      "Epoch 8/10, loss: 0.020, accuracy: 0.993, time: 24.603970 seconds\n",
      "Epoch 8, val accuracy: 0.984\n",
      "Epoch 9/10, loss: 0.019, accuracy: 0.993, time: 24.810368 seconds\n",
      "Epoch 9, val accuracy: 0.982\n",
      "Epoch 10/10, loss: 0.015, accuracy: 0.995, time: 23.055278 seconds\n",
      "Epoch 10, val accuracy: 0.982\n",
      "Optimizer: sgd, momentum: 0.95\n",
      "Using device: mps\n",
      "n_params: 29029\n",
      "Epoch 1/10, loss: 0.305, accuracy: 0.899, time: 23.762039 seconds\n",
      "Epoch 1, val accuracy: 0.966\n",
      "Epoch 2/10, loss: 0.088, accuracy: 0.973, time: 24.705900 seconds\n",
      "Epoch 2, val accuracy: 0.973\n",
      "Epoch 3/10, loss: 0.076, accuracy: 0.978, time: 23.797173 seconds\n",
      "Epoch 3, val accuracy: 0.978\n",
      "Epoch 4/10, loss: 0.066, accuracy: 0.980, time: 22.379572 seconds\n",
      "Epoch 4, val accuracy: 0.979\n",
      "Epoch 5/10, loss: 0.057, accuracy: 0.983, time: 22.077381 seconds\n",
      "Epoch 5, val accuracy: 0.973\n",
      "Epoch 6/10, loss: 0.069, accuracy: 0.980, time: 22.380792 seconds\n",
      "Epoch 6, val accuracy: 0.977\n",
      "Epoch 7/10, loss: 0.062, accuracy: 0.982, time: 23.750282 seconds\n",
      "Epoch 7, val accuracy: 0.976\n",
      "Epoch 8/10, loss: 0.062, accuracy: 0.982, time: 24.513755 seconds\n",
      "Epoch 8, val accuracy: 0.977\n",
      "Epoch 9/10, loss: 0.071, accuracy: 0.981, time: 23.075235 seconds\n",
      "Epoch 9, val accuracy: 0.972\n",
      "Epoch 10/10, loss: 0.069, accuracy: 0.981, time: 23.514668 seconds\n",
      "Epoch 10, val accuracy: 0.974\n",
      "Optimizer: adam, momentum: 0.9\n",
      "Using device: mps\n",
      "n_params: 29029\n",
      "Epoch 1/10, loss: 0.239, accuracy: 0.924, time: 28.984380 seconds\n",
      "Epoch 1, val accuracy: 0.969\n",
      "Epoch 2/10, loss: 0.072, accuracy: 0.977, time: 28.351886 seconds\n",
      "Epoch 2, val accuracy: 0.979\n",
      "Epoch 3/10, loss: 0.051, accuracy: 0.983, time: 29.825528 seconds\n",
      "Epoch 3, val accuracy: 0.983\n",
      "Epoch 4/10, loss: 0.039, accuracy: 0.987, time: 29.962069 seconds\n",
      "Epoch 4, val accuracy: 0.980\n",
      "Epoch 5/10, loss: 0.030, accuracy: 0.990, time: 29.646785 seconds\n",
      "Epoch 5, val accuracy: 0.982\n",
      "Epoch 6/10, loss: 0.024, accuracy: 0.992, time: 29.490002 seconds\n",
      "Epoch 6, val accuracy: 0.981\n",
      "Epoch 7/10, loss: 0.023, accuracy: 0.992, time: 30.651024 seconds\n",
      "Epoch 7, val accuracy: 0.984\n",
      "Epoch 8/10, loss: 0.018, accuracy: 0.994, time: 27.955707 seconds\n",
      "Epoch 8, val accuracy: 0.973\n",
      "Epoch 9/10, loss: 0.016, accuracy: 0.994, time: 29.558494 seconds\n",
      "Epoch 9, val accuracy: 0.981\n",
      "Epoch 10/10, loss: 0.015, accuracy: 0.995, time: 30.340940 seconds\n",
      "Epoch 10, val accuracy: 0.976\n"
     ]
    }
   ],
   "source": [
    "import question15\n",
    "results_list = []\n",
    "\n",
    "for opt in ['sgd', 'adam']:\n",
    "    for momentum in [0.9, 0.95]:\n",
    "        learning_rate = 0.01 if opt == 'sgd' else 0.001\n",
    "        print(f'Optimizer: {opt}, momentum: {momentum}')\n",
    "        results = question15.global_pooling_cnn(global_pooling_type='max',\n",
    "                                                learning_rate=learning_rate,\n",
    "                                                opt=opt,\n",
    "                                                momentum=momentum)\n",
    "        results_list.append(results)\n",
    "        if opt == 'adam':\n",
    "            break\n"
   ],
   "metadata": {
    "collapsed": false,
    "pycharm": {
     "name": "#%%\n"
    }
   }
  },
  {
   "cell_type": "code",
   "execution_count": 28,
   "outputs": [],
   "source": [
    "sgd_momentum_09 = results_list[0]\n",
    "sgd_momentum_099 = results_list[1]\n",
    "adam = results_list[2]"
   ],
   "metadata": {
    "collapsed": false,
    "pycharm": {
     "name": "#%%\n"
    }
   }
  },
  {
   "cell_type": "code",
   "execution_count": 29,
   "outputs": [
    {
     "data": {
      "text/plain": "{'accuracy': [0.9728867623604466,\n  0.976774322169059,\n  0.9821570972886763,\n  0.9815590111642744,\n  0.9825558213716108,\n  0.9823564593301436,\n  0.9804625199362041,\n  0.9835526315789473,\n  0.9817583732057417,\n  0.9820574162679426],\n 'loss': [52.750053374649724,\n  41.75559984048596,\n  33.07029244864316,\n  33.90457897809574,\n  33.304910928664185,\n  30.13970766231705,\n  38.21359961924897,\n  34.69793760650964,\n  35.890321131403866,\n  43.12395852379403],\n 'epoch': [1, 2, 3, 4, 5, 6, 7, 8, 9, 10]}"
     },
     "execution_count": 29,
     "metadata": {},
     "output_type": "execute_result"
    }
   ],
   "source": [
    "sgd_momentum_09"
   ],
   "metadata": {
    "collapsed": false,
    "pycharm": {
     "name": "#%%\n"
    }
   }
  },
  {
   "cell_type": "code",
   "execution_count": 45,
   "outputs": [],
   "source": [
    "import torch\n",
    "\n",
    "def evaluate(test_set, cnn, criterion, device, batch_size, global_pooling_type=None):\n",
    "    val_n_batches = len(test_set)\n",
    "    val_n_instances = val_n_batches * batch_size\n",
    "    test_n_correct = 0\n",
    "    val_running_loss = 0.0\n",
    "    for i, dataloader in enumerate(test_set.datasets):\n",
    "        for inputs, labels in dataloader:\n",
    "            inputs, labels = inputs.to(device), labels.to(device)\n",
    "            if global_pooling_type == 'max':\n",
    "                outputs = cnn(inputs, global_pooling='max')\n",
    "            else:\n",
    "                outputs = cnn(inputs)\n",
    "            predicted_classes = torch.argmax(outputs, dim=1)\n",
    "            test_n_correct += (predicted_classes == labels).sum().item()\n",
    "            loss = criterion(outputs, labels.type(torch.long))\n",
    "            val_running_loss += loss.item()\n",
    "    accuracy = test_n_correct / val_n_instances\n",
    "    loss = val_running_loss\n",
    "    return accuracy, loss\n",
    "\n",
    "def evaluate2(test_set, cnn, criterion, device, batch_size, global_pooling_type=None):\n",
    "    val_n_batches = len(test_set)\n",
    "    val_n_instances = val_n_batches * batch_size\n",
    "    test_n_correct = 0\n",
    "    val_running_loss = 0.0\n",
    "    for inputs, labels in test_set:\n",
    "        inputs, labels = inputs.to(device), labels.to(device)\n",
    "        if global_pooling_type == 'max':\n",
    "            outputs = cnn(inputs, global_pooling='max')\n",
    "        else:\n",
    "            outputs = cnn(inputs)\n",
    "        predicted_classes = torch.argmax(outputs, dim=1)\n",
    "        test_n_correct += (predicted_classes == labels).sum().item()\n",
    "        loss = criterion(outputs, labels.type(torch.long))\n",
    "        val_running_loss += loss.item()\n",
    "    accuracy = test_n_correct / val_n_instances\n",
    "    loss = val_running_loss\n",
    "    return accuracy, loss"
   ],
   "metadata": {
    "collapsed": false,
    "pycharm": {
     "name": "#%%\n"
    }
   }
  },
  {
   "cell_type": "code",
   "execution_count": 22,
   "outputs": [],
   "source": [
    "transform = transforms.Compose([\n",
    "        transforms.Grayscale(),\n",
    "        transforms.ToTensor()\n",
    "    ])\n",
    "test_batches_total = []\n",
    "for resolution in [32, 48, 64]:\n",
    "    # Use the ImageFolder dataloader to load the images of the specified resolution\n",
    "    imagefolder_test = torchvision.datasets.ImageFolder(f'MNIST_dataset/MNIST_variable_resolution/mnist-varres-pre-processed/test/{resolution}', transform=transform)\n",
    "\n",
    "    train_batches = torch.utils.data.DataLoader(imagefolder_test, batch_size=get_batch_size())\n",
    "\n",
    "    # Concat to the lists\n",
    "    test_batches_total.append(train_batches)\n",
    "# Concat using the ConcatDataset pytorch function\n",
    "test_batches_concat = torch.utils.data.ConcatDataset(test_batches_total)"
   ],
   "metadata": {
    "collapsed": false,
    "pycharm": {
     "name": "#%%\n"
    }
   }
  },
  {
   "cell_type": "code",
   "execution_count": 48,
   "outputs": [
    {
     "name": "stdout",
     "output_type": "stream",
     "text": [
      "Using device: mps\n",
      "Model path: models/cnn_mnist_sgd_momentum_09.pt, results: (0.9842503987240829, 33.36902377869947)\n",
      "Using device: mps\n",
      "Model path: models/cnn_mnist_resize_28_28.pt, results: (0.9672, 934.2953202724457)\n"
     ]
    }
   ],
   "source": [
    "import torch.nn as nn\n",
    "\n",
    "from question8 import get_device\n",
    "\n",
    "model_path = 'models/cnn_mnist_sgd_momentum_09.pt'\n",
    "model = torch.load(model_path)\n",
    "res = evaluate(test_set=test_batches_concat,\n",
    "               cnn=model,\n",
    "               criterion=nn.CrossEntropyLoss(),\n",
    "               device=get_device(),\n",
    "               batch_size=get_batch_size(),\n",
    "               global_pooling_type='max')\n",
    "print(f'Model path: {model_path}, results: {res}')\n",
    "\n",
    "N = 81\n",
    "transform = transforms.Compose([\n",
    "        transforms.Resize((28, 28)),\n",
    "        transforms.Grayscale(),\n",
    "        transforms.ToTensor()\n",
    "    ])\n",
    "imagefolder_test = torchvision.datasets.ImageFolder('MNIST_dataset/MNIST_variable_resolution/mnist-varres/test', transform=transform)\n",
    "imagefolder_test = torch.utils.data.DataLoader(imagefolder_test, batch_size=batch_size)\n",
    "model_path = 'models/cnn_mnist_resize_28_28.pt'\n",
    "model = torch.load(model_path)\n",
    "res = evaluate2(test_set=imagefolder_test,\n",
    "               cnn=model,\n",
    "               criterion=nn.CrossEntropyLoss(),\n",
    "               device=get_device(),\n",
    "               batch_size=get_batch_size())\n",
    "print(f'Model path: {model_path}, results: {res}')"
   ],
   "metadata": {
    "collapsed": false,
    "pycharm": {
     "name": "#%%\n"
    }
   }
  },
  {
   "cell_type": "code",
   "execution_count": 32,
   "outputs": [
    {
     "data": {
      "text/plain": "<Figure size 432x288 with 1 Axes>",
      "image/png": "[encoded data removed]"
     },
     "metadata": {
      "needs_background": "light"
     },
     "output_type": "display_data"
    }
   ],
   "source": [
    "import matplotlib.pyplot as plt\n",
    "\n",
    "\n",
    "epochs = [str(epoch) for epoch in range(1, 10 + 1)]\n",
    "plt.plot(epochs, adam['accuracy'], 'r', label='Adam')\n",
    "plt.plot(epochs, sgd_momentum_09['accuracy'], 'g', label='SGD (lr=0.01, momentum=0.9)')\n",
    "plt.plot(epochs, sgd_momentum_099['accuracy'], 'b', label='SGD (lr=0.01, momentum=0.99)')\n",
    "plt.title('Validation accuracy for different optimizers')\n",
    "plt.xlabel('Epochs')\n",
    "plt.ylabel('Accuracy')\n",
    "plt.legend()\n",
    "plt.savefig('Images/acc_new_model_optimizers.png')\n",
    "plt.show()"
   ],
   "metadata": {
    "collapsed": false,
    "pycharm": {
     "name": "#%%\n"
    }
   }
  },
  {
   "cell_type": "code",
   "execution_count": null,
   "outputs": [],
   "source": [],
   "metadata": {
    "collapsed": false,
    "pycharm": {
     "name": "#%%\n"
    }
   }
  }
 ],
 "metadata": {
  "kernelspec": {
   "display_name": "Python 3",
   "language": "python",
   "name": "python3"
  },
  "language_info": {
   "codemirror_mode": {
    "name": "ipython",
    "version": 2
   },
   "file_extension": ".py",
   "mimetype": "text/x-python",
   "name": "python",
   "nbconvert_exporter": "python",
   "pygments_lexer": "ipython2",
   "version": "2.7.6"
  }
 },
 "nbformat": 4,
 "nbformat_minor": 0
}
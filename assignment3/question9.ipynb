{
 "cells": [
  {
   "cell_type": "code",
   "execution_count": 3,
   "metadata": {
    "collapsed": true,
    "pycharm": {
     "name": "#%%\n"
    }
   },
   "outputs": [],
   "source": [
    "import torchvision.transforms as transforms\n",
    "from question8 import cnn\n",
    "from torchvision.transforms import GaussianBlur, ToTensor, RandomPerspective"
   ]
  },
  {
   "cell_type": "code",
   "execution_count": 4,
   "outputs": [
    {
     "name": "stdout",
     "output_type": "stream",
     "text": [
      "Using device: mps\n",
      "Epoch 1/10, loss: 1.589, accuracy: 0.875, time: 27.529556 seconds\n",
      "Epoch 1, val accuracy: 0.968\n",
      "Epoch 2/10, loss: 1.486, accuracy: 0.976, time: 24.238810 seconds\n",
      "Epoch 2, val accuracy: 0.980\n",
      "Epoch 3/10, loss: 1.480, accuracy: 0.981, time: 24.221080 seconds\n",
      "Epoch 3, val accuracy: 0.981\n",
      "Epoch 4/10, loss: 1.477, accuracy: 0.984, time: 24.954268 seconds\n",
      "Epoch 4, val accuracy: 0.982\n",
      "Epoch 5/10, loss: 1.476, accuracy: 0.986, time: 25.202400 seconds\n",
      "Epoch 5, val accuracy: 0.983\n",
      "Epoch 6/10, loss: 1.474, accuracy: 0.987, time: 24.936203 seconds\n",
      "Epoch 6, val accuracy: 0.984\n",
      "Epoch 7/10, loss: 1.475, accuracy: 0.987, time: 24.665620 seconds\n",
      "Epoch 7, val accuracy: 0.980\n",
      "Epoch 8/10, loss: 1.474, accuracy: 0.987, time: 23.938440 seconds\n",
      "Epoch 8, val accuracy: 0.985\n",
      "Epoch 9/10, loss: 1.473, accuracy: 0.988, time: 23.339066 seconds\n",
      "Epoch 9, val accuracy: 0.987\n",
      "Epoch 10/10, loss: 1.473, accuracy: 0.989, time: 21.873721 seconds\n",
      "Epoch 10, val accuracy: 0.984\n",
      "Using device: mps\n",
      "Epoch 1/10, loss: 1.553, accuracy: 0.911, time: 26.921144 seconds\n",
      "Epoch 1, val accuracy: 0.968\n",
      "Epoch 2/10, loss: 1.491, accuracy: 0.971, time: 26.656886 seconds\n",
      "Epoch 2, val accuracy: 0.972\n",
      "Epoch 3/10, loss: 1.484, accuracy: 0.978, time: 28.711503 seconds\n",
      "Epoch 3, val accuracy: 0.978\n",
      "Epoch 4/10, loss: 1.482, accuracy: 0.979, time: 29.395274 seconds\n",
      "Epoch 4, val accuracy: 0.977\n",
      "Epoch 5/10, loss: 1.479, accuracy: 0.982, time: 29.151037 seconds\n",
      "Epoch 5, val accuracy: 0.983\n",
      "Epoch 6/10, loss: 1.478, accuracy: 0.984, time: 29.213804 seconds\n",
      "Epoch 6, val accuracy: 0.984\n",
      "Epoch 7/10, loss: 1.477, accuracy: 0.985, time: 29.874018 seconds\n",
      "Epoch 7, val accuracy: 0.984\n",
      "Epoch 8/10, loss: 1.476, accuracy: 0.985, time: 29.031663 seconds\n",
      "Epoch 8, val accuracy: 0.983\n",
      "Epoch 9/10, loss: 1.477, accuracy: 0.985, time: 28.885098 seconds\n",
      "Epoch 9, val accuracy: 0.979\n",
      "Epoch 10/10, loss: 1.475, accuracy: 0.986, time: 29.301219 seconds\n",
      "Epoch 10, val accuracy: 0.983\n",
      "Using device: mps\n",
      "Epoch 1/10, loss: 1.690, accuracy: 0.775, time: 31.210153 seconds\n",
      "Epoch 1, val accuracy: 0.880\n",
      "Epoch 2/10, loss: 1.554, accuracy: 0.908, time: 30.751049 seconds\n",
      "Epoch 2, val accuracy: 0.970\n",
      "Epoch 3/10, loss: 1.509, accuracy: 0.953, time: 34.956332 seconds\n",
      "Epoch 3, val accuracy: 0.981\n",
      "Epoch 4/10, loss: 1.500, accuracy: 0.961, time: 28.800850 seconds\n",
      "Epoch 4, val accuracy: 0.981\n",
      "Epoch 5/10, loss: 1.498, accuracy: 0.964, time: 27.573641 seconds\n",
      "Epoch 5, val accuracy: 0.983\n",
      "Epoch 6/10, loss: 1.495, accuracy: 0.966, time: 27.504164 seconds\n",
      "Epoch 6, val accuracy: 0.985\n",
      "Epoch 7/10, loss: 1.492, accuracy: 0.969, time: 27.610153 seconds\n",
      "Epoch 7, val accuracy: 0.983\n",
      "Epoch 8/10, loss: 1.492, accuracy: 0.969, time: 27.616797 seconds\n",
      "Epoch 8, val accuracy: 0.985\n",
      "Epoch 9/10, loss: 1.490, accuracy: 0.972, time: 27.413371 seconds\n",
      "Epoch 9, val accuracy: 0.984\n",
      "Epoch 10/10, loss: 1.488, accuracy: 0.973, time: 27.675811 seconds\n",
      "Epoch 10, val accuracy: 0.986\n"
     ]
    }
   ],
   "source": [
    "transform = transforms.Compose([ToTensor()])\n",
    "\n",
    "transform2 = transforms.Compose([\n",
    " GaussianBlur(kernel_size=3),\n",
    " ToTensor()\n",
    "])\n",
    "transform3 = transforms.Compose([\n",
    "    ToTensor(),\n",
    "    RandomPerspective(distortion_scale=0.5, p=0.5)\n",
    "])\n",
    "\n",
    "all_transforms = [transform, transform2, transform3]\n",
    "\n",
    "results = []\n",
    "for transform_ in all_transforms:\n",
    "\n",
    "    results.append(cnn(transform=transform_))"
   ],
   "metadata": {
    "collapsed": false,
    "pycharm": {
     "name": "#%%\n"
    }
   }
  },
  {
   "cell_type": "code",
   "execution_count": 5,
   "outputs": [
    {
     "data": {
      "text/plain": "<Figure size 432x288 with 1 Axes>",
      "image/png": "[encoded data removed]"
     },
     "metadata": {
      "needs_background": "light"
     },
     "output_type": "display_data"
    }
   ],
   "source": [
    "import matplotlib.pyplot as plt\n",
    "baseline_acc = results[0]['accuracy']\n",
    "gaussian_acc = results[1]['accuracy']\n",
    "random_perspective_acc = results[2]['accuracy']\n",
    "\n",
    "epochs = results[0]['epoch']\n",
    "epochs = [str(epoch) for epoch in epochs]\n",
    "\n",
    "plt.plot(epochs, baseline_acc, 'g', label= 'Baseline')\n",
    "plt.plot(epochs, gaussian_acc, 'r', label= 'Gaussian')\n",
    "plt.plot(epochs, random_perspective_acc, 'b', label='Random perspective')\n",
    "plt.title('Validation accuracy for different transforms ')\n",
    "plt.xlabel('Epochs')\n",
    "plt.ylabel('Accuracy')\n",
    "plt.legend()\n",
    "plt.savefig('Images/acc_transforms.png')\n",
    "plt.show()"
   ],
   "metadata": {
    "collapsed": false,
    "pycharm": {
     "name": "#%%\n"
    }
   }
  },
  {
   "cell_type": "code",
   "execution_count": 8,
   "outputs": [
    {
     "name": "stdout",
     "output_type": "stream",
     "text": [
      "Using device: mps\n",
      "Using device: mps\n",
      "Using device: mps\n"
     ]
    },
    {
     "data": {
      "text/plain": "<Figure size 432x288 with 1 Axes>",
      "image/png": "[encoded data removed]"
     },
     "metadata": {
      "needs_background": "light"
     },
     "output_type": "display_data"
    }
   ],
   "source": [
    "import torch\n",
    "import torchvision\n",
    "import torch.nn as nn\n",
    "import numpy as np\n",
    "import matplotlib.pyplot as plt\n",
    "from question8 import evaluate, get_device, get_batch_size\n",
    "from torchvision.transforms import ToTensor\n",
    "from torch.utils.data import DataLoader\n",
    "\n",
    "model_paths = ['models/cnn_mnist_gaussian_blur.pt', 'models/cnn_mnist_random_perspective.pt', 'models/cnn_mnist_to_tensor.pt']\n",
    "path_dataset = 'MNIST_dataset'\n",
    "test = torchvision.datasets.MNIST(root=path_dataset, train=False, download=True, transform=ToTensor())\n",
    "batch_size = get_batch_size()\n",
    "test_set = DataLoader(test, batch_size=batch_size)\n",
    "accuracies = []\n",
    "\n",
    "for model_path in model_paths:\n",
    "    model = torch.load(model_path)\n",
    "    accuracy, loss = evaluate(\n",
    "        test_set=test_set,\n",
    "        cnn=model,\n",
    "        criterion=nn.CrossEntropyLoss(),\n",
    "        device=get_device(),\n",
    "        batch_size=batch_size\n",
    "    )\n",
    "    accuracies.append(accuracy)\n",
    "\n",
    "fig = plt.figure()\n",
    "bars = ('Gaussian blur', 'Random perspective', 'Baseline')\n",
    "y_pos = np.arange(len(bars))\n",
    "\n",
    "plt.bar(y_pos, accuracies)\n",
    "plt.xticks(y_pos, bars)\n",
    "plt.savefig('Images/acc_transforms_test_bar.png')\n",
    "plt.show()"
   ],
   "metadata": {
    "collapsed": false,
    "pycharm": {
     "name": "#%%\n"
    }
   }
  },
  {
   "cell_type": "code",
   "execution_count": 9,
   "outputs": [
    {
     "data": {
      "text/plain": "[0.986, 0.9886, 0.9848]"
     },
     "execution_count": 9,
     "metadata": {},
     "output_type": "execute_result"
    }
   ],
   "source": [
    "accuracies"
   ],
   "metadata": {
    "collapsed": false,
    "pycharm": {
     "name": "#%%\n"
    }
   }
  },
  {
   "cell_type": "code",
   "execution_count": null,
   "outputs": [],
   "source": [],
   "metadata": {
    "collapsed": false,
    "pycharm": {
     "name": "#%%\n"
    }
   }
  }
 ],
 "metadata": {
  "kernelspec": {
   "display_name": "Python 3",
   "language": "python",
   "name": "python3"
  },
  "language_info": {
   "codemirror_mode": {
    "name": "ipython",
    "version": 2
   },
   "file_extension": ".py",
   "mimetype": "text/x-python",
   "name": "python",
   "nbconvert_exporter": "python",
   "pygments_lexer": "ipython2",
   "version": "2.7.6"
  }
 },
 "nbformat": 4,
 "nbformat_minor": 0
}
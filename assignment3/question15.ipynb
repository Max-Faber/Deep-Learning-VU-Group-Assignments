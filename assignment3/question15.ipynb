{
 "cells": [
  {
   "cell_type": "code",
   "execution_count": 1,
   "metadata": {
    "collapsed": true,
    "pycharm": {
     "name": "#%%\n"
    }
   },
   "outputs": [],
   "source": [
    "from question15 import global_pooling_cnn"
   ]
  },
  {
   "cell_type": "code",
   "execution_count": 2,
   "outputs": [
    {
     "name": "stdout",
     "output_type": "stream",
     "text": [
      "Using device: mps\n",
      "n_params: 29029\n",
      "Epoch 1/10, loss: 0.558, accuracy: 0.826, time: 31.082186 seconds\n",
      "Epoch 1, val accuracy: 0.925\n",
      "Epoch 2/10, loss: 0.199, accuracy: 0.946, time: 30.646495 seconds\n",
      "Epoch 2, val accuracy: 0.952\n",
      "Epoch 3/10, loss: 0.148, accuracy: 0.960, time: 30.642545 seconds\n",
      "Epoch 3, val accuracy: 0.958\n",
      "Epoch 4/10, loss: 0.121, accuracy: 0.967, time: 30.714635 seconds\n",
      "Epoch 4, val accuracy: 0.963\n",
      "Epoch 5/10, loss: 0.102, accuracy: 0.973, time: 30.445102 seconds\n",
      "Epoch 5, val accuracy: 0.969\n",
      "Epoch 6/10, loss: 0.087, accuracy: 0.977, time: 30.407360 seconds\n",
      "Epoch 6, val accuracy: 0.972\n",
      "Epoch 7/10, loss: 0.076, accuracy: 0.980, time: 30.508112 seconds\n",
      "Epoch 7, val accuracy: 0.973\n",
      "Epoch 8/10, loss: 0.067, accuracy: 0.982, time: 27.576415 seconds\n",
      "Epoch 8, val accuracy: 0.977\n",
      "Epoch 9/10, loss: 0.058, accuracy: 0.984, time: 30.413100 seconds\n",
      "Epoch 9, val accuracy: 0.979\n",
      "Epoch 10/10, loss: 0.052, accuracy: 0.986, time: 30.677138 seconds\n",
      "Epoch 10, val accuracy: 0.979\n",
      "Using device: mps\n",
      "n_params: 29029\n",
      "Epoch 1/10, loss: 0.250, accuracy: 0.920, time: 31.272589 seconds\n",
      "Epoch 1, val accuracy: 0.956\n",
      "Epoch 2/10, loss: 0.075, accuracy: 0.976, time: 30.059270 seconds\n",
      "Epoch 2, val accuracy: 0.975\n",
      "Epoch 3/10, loss: 0.052, accuracy: 0.983, time: 28.586894 seconds\n",
      "Epoch 3, val accuracy: 0.980\n",
      "Epoch 4/10, loss: 0.040, accuracy: 0.987, time: 28.907664 seconds\n",
      "Epoch 4, val accuracy: 0.981\n",
      "Epoch 5/10, loss: 0.032, accuracy: 0.989, time: 28.122061 seconds\n",
      "Epoch 5, val accuracy: 0.979\n",
      "Epoch 6/10, loss: 0.026, accuracy: 0.991, time: 28.226538 seconds\n",
      "Epoch 6, val accuracy: 0.981\n",
      "Epoch 7/10, loss: 0.022, accuracy: 0.992, time: 29.856074 seconds\n",
      "Epoch 7, val accuracy: 0.983\n",
      "Epoch 8/10, loss: 0.019, accuracy: 0.993, time: 30.839968 seconds\n",
      "Epoch 8, val accuracy: 0.983\n",
      "Epoch 9/10, loss: 0.016, accuracy: 0.994, time: 30.682626 seconds\n",
      "Epoch 9, val accuracy: 0.982\n",
      "Epoch 10/10, loss: 0.014, accuracy: 0.995, time: 30.788960 seconds\n",
      "Epoch 10, val accuracy: 0.984\n"
     ]
    }
   ],
   "source": [
    "global_pooling_types = ['mean', 'max']\n",
    "results = []\n",
    "\n",
    "for global_pooling_type in global_pooling_types:\n",
    "    results.append(global_pooling_cnn(global_pooling_type=global_pooling_type))"
   ],
   "metadata": {
    "collapsed": false,
    "pycharm": {
     "name": "#%%\n"
    }
   }
  },
  {
   "cell_type": "code",
   "execution_count": 3,
   "outputs": [
    {
     "data": {
      "text/plain": "[{'accuracy': [0.9253389154704944,\n   0.9520534290271132,\n   0.9577352472089314,\n   0.9626196172248804,\n   0.9687001594896332,\n   0.9717902711323764,\n   0.9729864433811802,\n   0.976774322169059,\n   0.9785685805422647,\n   0.979066985645933],\n  'loss': [203.90689270767723,\n   124.12628825810339,\n   108.49772614738245,\n   95.66993901232829,\n   84.39849605943543,\n   74.15203883230363,\n   69.85202441508245,\n   63.11237137016619,\n   59.45231698687637,\n   55.38587824192679],\n  'epoch': [1, 2, 3, 4, 5, 6, 7, 8, 9, 10]},\n {'accuracy': [0.9560406698564593,\n   0.9748803827751196,\n   0.9802631578947368,\n   0.9807615629984051,\n   0.979066985645933,\n   0.9811602870813397,\n   0.9826555023923444,\n   0.9826555023923444,\n   0.9820574162679426,\n   0.9837519936204147],\n  'loss': [77.00830845534801,\n   47.55735962005565,\n   36.762429720063665,\n   36.34719973955907,\n   39.725550702899,\n   39.58597074505178,\n   37.09947422947008,\n   35.74217800444569,\n   37.58760591036909,\n   37.98403195493938],\n  'epoch': [1, 2, 3, 4, 5, 6, 7, 8, 9, 10]}]"
     },
     "execution_count": 3,
     "metadata": {},
     "output_type": "execute_result"
    }
   ],
   "source": [
    "results"
   ],
   "metadata": {
    "collapsed": false,
    "pycharm": {
     "name": "#%%\n"
    }
   }
  },
  {
   "cell_type": "code",
   "execution_count": 4,
   "outputs": [
    {
     "data": {
      "text/plain": "<Figure size 432x288 with 1 Axes>",
      "image/png": "[encoded data removed]"
     },
     "metadata": {
      "needs_background": "light"
     },
     "output_type": "display_data"
    }
   ],
   "source": [
    "import matplotlib.pyplot as plt\n",
    "\n",
    "mean_pool_val_acc = results[0]['accuracy']\n",
    "max_pool_val_acc = results[1]['accuracy']\n",
    "\n",
    "epochs = results[0]['epoch']\n",
    "epochs = [str(epoch) for epoch in epochs]\n",
    "\n",
    "plt.plot(epochs, mean_pool_val_acc, 'g', label='Mean global pooling validation accuracy')\n",
    "plt.plot(epochs, max_pool_val_acc, 'r', label='Max global pooling validation accuracy')\n",
    "plt.title('Validation accuracy for global max/mean pooling')\n",
    "plt.xlabel('Epochs')\n",
    "plt.ylabel('Accuracy')\n",
    "plt.legend()\n",
    "plt.savefig('Images/acc_mean_max_glob_pooling.png')\n",
    "plt.show()"
   ],
   "metadata": {
    "collapsed": false,
    "pycharm": {
     "name": "#%%\n"
    }
   }
  },
  {
   "cell_type": "code",
   "execution_count": null,
   "outputs": [],
   "source": [],
   "metadata": {
    "collapsed": false,
    "pycharm": {
     "name": "#%%\n"
    }
   }
  }
 ],
 "metadata": {
  "kernelspec": {
   "display_name": "Python 3",
   "language": "python",
   "name": "python3"
  },
  "language_info": {
   "codemirror_mode": {
    "name": "ipython",
    "version": 2
   },
   "file_extension": ".py",
   "mimetype": "text/x-python",
   "name": "python",
   "nbconvert_exporter": "python",
   "pygments_lexer": "ipython2",
   "version": "2.7.6"
  }
 },
 "nbformat": 4,
 "nbformat_minor": 0
}
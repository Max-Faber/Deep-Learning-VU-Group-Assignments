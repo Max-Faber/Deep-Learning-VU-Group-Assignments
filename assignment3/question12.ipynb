{
 "cells": [
  {
   "cell_type": "code",
   "execution_count": 1,
   "outputs": [],
   "source": [
    "import torchvision\n",
    "import torchvision.transforms as transforms\n",
    "import torch\n",
    "from question7 import split_train_validation\n",
    "from question8 import get_batch_size\n",
    "\n",
    "transform = transforms.Compose([\n",
    "    transforms.Resize((28, 28)),\n",
    "    transforms.Grayscale(),\n",
    "    transforms.ToTensor()\n",
    "])\n",
    "\n",
    "imagefolder_train = torchvision.datasets.ImageFolder('MNIST_dataset/MNIST_variable_resolution/mnist-varres/train', transform=transform)\n",
    "imagefolder_test = torchvision.datasets.ImageFolder('MNIST_dataset/MNIST_variable_resolution/mnist-varres/test', transform=transform)\n",
    "\n",
    "batch_size = get_batch_size()\n",
    "train_batches, val_batches = split_train_validation(\n",
    "    training_data=imagefolder_train,\n",
    "    batch_size=batch_size\n",
    ")\n",
    "test = torch.utils.data.DataLoader(imagefolder_test, batch_size=batch_size, shuffle=True)"
   ],
   "metadata": {
    "collapsed": false,
    "pycharm": {
     "name": "#%%\n"
    }
   }
  },
  {
   "cell_type": "code",
   "execution_count": 2,
   "outputs": [
    {
     "name": "stdout",
     "output_type": "stream",
     "text": [
      "torch.Size([16, 1, 28, 28])\n"
     ]
    }
   ],
   "source": [
    "for input, label in train_batches:\n",
    "    print(input.shape)\n",
    "    break"
   ],
   "metadata": {
    "collapsed": false,
    "pycharm": {
     "name": "#%%\n"
    }
   }
  },
  {
   "cell_type": "code",
   "execution_count": 3,
   "outputs": [
    {
     "name": "stdout",
     "output_type": "stream",
     "text": [
      "Using device: mps\n",
      "Epoch 1/10, loss: 1.752, accuracy: 0.720, time: 27.710115 seconds\n",
      "Epoch 1, val accuracy: 0.883\n",
      "Epoch 2/10, loss: 1.571, accuracy: 0.895, time: 27.166710 seconds\n",
      "Epoch 2, val accuracy: 0.899\n",
      "Epoch 3/10, loss: 1.543, accuracy: 0.921, time: 27.200706 seconds\n",
      "Epoch 3, val accuracy: 0.908\n",
      "Epoch 4/10, loss: 1.529, accuracy: 0.934, time: 27.180812 seconds\n",
      "Epoch 4, val accuracy: 0.923\n",
      "Epoch 5/10, loss: 1.521, accuracy: 0.943, time: 27.231628 seconds\n",
      "Epoch 5, val accuracy: 0.942\n",
      "Epoch 6/10, loss: 1.514, accuracy: 0.948, time: 27.114921 seconds\n",
      "Epoch 6, val accuracy: 0.947\n",
      "Epoch 7/10, loss: 1.509, accuracy: 0.953, time: 27.104148 seconds\n",
      "Epoch 7, val accuracy: 0.952\n",
      "Epoch 8/10, loss: 1.507, accuracy: 0.955, time: 27.234603 seconds\n",
      "Epoch 8, val accuracy: 0.951\n",
      "Epoch 9/10, loss: 1.504, accuracy: 0.958, time: 27.265114 seconds\n",
      "Epoch 9, val accuracy: 0.948\n",
      "Epoch 10/10, loss: 1.502, accuracy: 0.959, time: 27.500474 seconds\n",
      "Epoch 10, val accuracy: 0.953\n"
     ]
    }
   ],
   "source": [
    "from question8 import cnn\n",
    "\n",
    "results = cnn(train=train_batches, val=val_batches, batch_size=batch_size)"
   ],
   "metadata": {
    "collapsed": false,
    "pycharm": {
     "name": "#%%\n"
    }
   }
  },
  {
   "cell_type": "code",
   "execution_count": 4,
   "outputs": [
    {
     "data": {
      "text/plain": "<Figure size 432x288 with 1 Axes>",
      "image/png": "[encoded data removed]"
     },
     "metadata": {
      "needs_background": "light"
     },
     "output_type": "display_data"
    }
   ],
   "source": [
    "import matplotlib.pyplot as plt\n",
    "acc = results['accuracy']\n",
    "\n",
    "epochs = results['epoch']\n",
    "epochs = [str(epoch) for epoch in epochs]\n",
    "\n",
    "plt.plot(epochs, acc, 'g', label='Baseline')\n",
    "plt.title('Validation accuracy for different transforms ')\n",
    "plt.xlabel('Epochs')\n",
    "plt.ylabel('Accuracy')\n",
    "plt.legend()\n",
    "plt.savefig('Images/acc_variable_mnist_28_28.png')\n",
    "plt.show()"
   ],
   "metadata": {
    "collapsed": false,
    "pycharm": {
     "name": "#%%\n"
    }
   }
  },
  {
   "cell_type": "code",
   "execution_count": 4,
   "outputs": [],
   "source": [],
   "metadata": {
    "collapsed": false,
    "pycharm": {
     "name": "#%%\n"
    }
   }
  }
 ],
 "metadata": {
  "kernelspec": {
   "display_name": "Python 3",
   "language": "python",
   "name": "python3"
  },
  "language_info": {
   "codemirror_mode": {
    "name": "ipython",
    "version": 2
   },
   "file_extension": ".py",
   "mimetype": "text/x-python",
   "name": "python",
   "nbconvert_exporter": "python",
   "pygments_lexer": "ipython2",
   "version": "2.7.6"
  }
 },
 "nbformat": 4,
 "nbformat_minor": 0
}
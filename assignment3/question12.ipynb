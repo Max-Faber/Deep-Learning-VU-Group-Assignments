{
 "cells": [
  {
   "cell_type": "code",
   "execution_count": 1,
   "outputs": [],
   "source": [
    "import torchvision\n",
    "import torchvision.transforms as transforms\n",
    "import torch\n",
    "from question7 import split_train_validation\n",
    "from question8 import get_batch_size\n",
    "\n",
    "i = 28\n",
    "\n",
    "transform = transforms.Compose([\n",
    "    transforms.Resize((i, i)),\n",
    "    transforms.Grayscale(),\n",
    "    transforms.ToTensor()\n",
    "])\n",
    "\n",
    "imagefolder_train = torchvision.datasets.ImageFolder('MNIST_dataset/MNIST_variable_resolution/mnist-varres/train', transform=transform)\n",
    "imagefolder_test = torchvision.datasets.ImageFolder('MNIST_dataset/MNIST_variable_resolution/mnist-varres/test', transform=transform)\n",
    "\n",
    "batch_size = get_batch_size()\n",
    "train_batches, val_batches = split_train_validation(\n",
    "    training_data=imagefolder_train,\n",
    "    batch_size=batch_size\n",
    ")\n",
    "test = torch.utils.data.DataLoader(imagefolder_test, batch_size=batch_size, shuffle=True)"
   ],
   "metadata": {
    "collapsed": false,
    "pycharm": {
     "name": "#%%\n"
    }
   }
  },
  {
   "cell_type": "code",
   "execution_count": 2,
   "outputs": [
    {
     "name": "stdout",
     "output_type": "stream",
     "text": [
      "torch.Size([16, 1, 28, 28])\n"
     ]
    }
   ],
   "source": [
    "for input, label in train_batches:\n",
    "    print(input.shape)\n",
    "    break"
   ],
   "metadata": {
    "collapsed": false,
    "pycharm": {
     "name": "#%%\n"
    }
   }
  },
  {
   "cell_type": "code",
   "execution_count": 3,
   "outputs": [
    {
     "name": "stdout",
     "output_type": "stream",
     "text": [
      "Using device: mps\n",
      "Epoch 1/10, loss: 1.749, accuracy: 0.723, time: 30.013497 seconds\n",
      "Epoch 1, val accuracy: 0.872\n",
      "Epoch 2/10, loss: 1.581, accuracy: 0.886, time: 32.509939 seconds\n",
      "Epoch 2, val accuracy: 0.892\n",
      "Epoch 3/10, loss: 1.549, accuracy: 0.916, time: 32.886895 seconds\n",
      "Epoch 3, val accuracy: 0.922\n",
      "Epoch 4/10, loss: 1.532, accuracy: 0.932, time: 32.530718 seconds\n",
      "Epoch 4, val accuracy: 0.931\n",
      "Epoch 5/10, loss: 1.523, accuracy: 0.940, time: 32.851447 seconds\n",
      "Epoch 5, val accuracy: 0.939\n",
      "Epoch 6/10, loss: 1.516, accuracy: 0.947, time: 32.868222 seconds\n",
      "Epoch 6, val accuracy: 0.947\n",
      "Epoch 7/10, loss: 1.511, accuracy: 0.951, time: 32.719222 seconds\n",
      "Epoch 7, val accuracy: 0.942\n",
      "Epoch 8/10, loss: 1.508, accuracy: 0.954, time: 33.094257 seconds\n",
      "Epoch 8, val accuracy: 0.953\n",
      "Epoch 9/10, loss: 1.504, accuracy: 0.958, time: 32.690841 seconds\n",
      "Epoch 9, val accuracy: 0.944\n",
      "Epoch 10/10, loss: 1.502, accuracy: 0.960, time: 32.951359 seconds\n",
      "Epoch 10, val accuracy: 0.947\n"
     ]
    }
   ],
   "source": [
    "from question8 import cnn\n",
    "\n",
    "results = cnn(train=train_batches, val=val_batches, batch_size=batch_size)"
   ],
   "metadata": {
    "collapsed": false,
    "pycharm": {
     "name": "#%%\n"
    }
   }
  },
  {
   "cell_type": "code",
   "execution_count": 4,
   "outputs": [
    {
     "data": {
      "text/plain": "<Figure size 432x288 with 1 Axes>",
      "image/png": "[encoded data removed]"
     },
     "metadata": {
      "needs_background": "light"
     },
     "output_type": "display_data"
    }
   ],
   "source": [
    "import matplotlib.pyplot as plt\n",
    "acc = results['accuracy']\n",
    "\n",
    "epochs = results['epoch']\n",
    "epochs = [str(epoch) for epoch in epochs]\n",
    "\n",
    "plt.plot(epochs, acc, 'g', label='Baseline')\n",
    "plt.title('Validation accuracy after resizing to 28x28')\n",
    "plt.xlabel('Epochs')\n",
    "plt.ylabel('Accuracy')\n",
    "plt.legend()\n",
    "plt.savefig('Images/acc_variable_mnist_28_28.png')\n",
    "plt.show()"
   ],
   "metadata": {
    "collapsed": false,
    "pycharm": {
     "name": "#%%\n"
    }
   }
  },
  {
   "cell_type": "code",
   "execution_count": 4,
   "outputs": [],
   "source": [],
   "metadata": {
    "collapsed": false,
    "pycharm": {
     "name": "#%%\n"
    }
   }
  }
 ],
 "metadata": {
  "kernelspec": {
   "display_name": "Python 3",
   "language": "python",
   "name": "python3"
  },
  "language_info": {
   "codemirror_mode": {
    "name": "ipython",
    "version": 2
   },
   "file_extension": ".py",
   "mimetype": "text/x-python",
   "name": "python",
   "nbconvert_exporter": "python",
   "pygments_lexer": "ipython2",
   "version": "2.7.6"
  }
 },
 "nbformat": 4,
 "nbformat_minor": 0
}
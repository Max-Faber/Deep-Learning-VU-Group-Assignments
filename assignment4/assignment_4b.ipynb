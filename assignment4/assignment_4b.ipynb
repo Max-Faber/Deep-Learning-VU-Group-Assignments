{
 "nbformat": 4,
 "nbformat_minor": 0,
 "metadata": {
  "colab": {
   "provenance": [],
   "collapsed_sections": [],
   "toc_visible": true
  },
  "kernelspec": {
   "name": "python3",
   "display_name": "Python 3"
  },
  "accelerator": "GPU"
 },
 "cells": [
  {
   "cell_type": "markdown",
   "metadata": {
    "id": "aJ_pmgxvGur9",
    "pycharm": {
     "name": "#%% md\n"
    }
   },
   "source": [
    "# Assignment 4b - Graph Convolutional Networks\n",
    "## Deep Learning Course - Vrije Universiteit Amsterdam, 2022"
   ]
  },
  {
   "cell_type": "markdown",
   "metadata": {
    "id": "mEneMITS2agU",
    "pycharm": {
     "name": "#%% md\n"
    }
   },
   "source": [
    "#### Instructions on how to use this notebook:\n",
    "\n",
    "This notebook is hosted on Google Colab. To be able to work on it, you have to create your own copy. Go to *File* and select *Save a copy in Drive*.\n",
    "\n",
    "You can also avoid using Colab entirely, and download the notebook to run it on your own machine. If you choose this, go to *File* and select *Download .ipynb*.\n",
    "\n",
    "The advantage of using Colab is that you can use a GPU. You can complete this assignment with a CPU, but it will take a bit longer. Furthermore, we encourage you to train using the GPU not only for faster training, but also to get experience with this setting. This includes moving models and tensors to the GPU and back. This experience is very valuable because for many interesting models and large datasets (like large CNNs for ImageNet, or Transformer models trained on Wikipedia), training on GPU is the only feasible way.\n",
    "\n",
    "The default Colab runtime does not have a GPU. To change this, go to *Runtime - Change runtime type*, and select *GPU* as the hardware accelerator. The GPU that you get changes according to what resources are available at the time, and its memory can go from a 5GB, to around 18GB if you are lucky. If you are curious, you can run the following in a code cell to check:\n",
    "\n",
    "```sh\n",
    "!nvidia-smi\n",
    "```\n",
    "\n",
    "Note that despite the name, Google Colab does  not support collaborative work without issues. When two or more people edit the notebook concurrently, only one version will be saved. You can choose to do group programming with one person sharing the screen with the others, or make multiple copies of the notebook to work concurrently.\n",
    "\n",
    "**Submission:** Upload your notebook in .ipynb format to Canvas. The code and answers to the questions in the notebook are sufficient, no separate report is expected. "
   ]
  },
  {
   "cell_type": "code",
   "metadata": {
    "id": "lBgoJIpdLI2Y",
    "colab": {
     "base_uri": "https://localhost:8080/"
    },
    "outputId": "2f4f1d93-2f77-4ed1-ab7d-ab814daab38e",
    "pycharm": {
     "name": "#%%\n"
    }
   },
   "source": [
    "import scipy.sparse\n",
    "!nvidia-smi"
   ],
   "execution_count": null,
   "outputs": [
    {
     "output_type": "stream",
     "name": "stdout",
     "text": [
      "Mon Nov 29 09:51:50 2021       \n",
      "+-----------------------------------------------------------------------------+\n",
      "| NVIDIA-SMI 495.44       Driver Version: 460.32.03    CUDA Version: 11.2     |\n",
      "|-------------------------------+----------------------+----------------------+\n",
      "| GPU  Name        Persistence-M| Bus-Id        Disp.A | Volatile Uncorr. ECC |\n",
      "| Fan  Temp  Perf  Pwr:Usage/Cap|         Memory-Usage | GPU-Util  Compute M. |\n",
      "|                               |                      |               MIG M. |\n",
      "|===============================+======================+======================|\n",
      "|   0  Tesla K80           Off  | 00000000:00:04.0 Off |                    0 |\n",
      "| N/A   38C    P8    27W / 149W |      0MiB / 11441MiB |      0%      Default |\n",
      "|                               |                      |                  N/A |\n",
      "+-------------------------------+----------------------+----------------------+\n",
      "                                                                               \n",
      "+-----------------------------------------------------------------------------+\n",
      "| Processes:                                                                  |\n",
      "|  GPU   GI   CI        PID   Type   Process name                  GPU Memory |\n",
      "|        ID   ID                                                   Usage      |\n",
      "|=============================================================================|\n",
      "|  No running processes found                                                 |\n",
      "+-----------------------------------------------------------------------------+\n"
     ]
    }
   ]
  },
  {
   "cell_type": "markdown",
   "metadata": {
    "id": "tsdc7fDp40rQ",
    "pycharm": {
     "name": "#%% md\n"
    }
   },
   "source": [
    "### Introduction\n",
    "\n",
    "Graphs are very useful data structures that allow us to represent sets of entities and the way they are related among each other. In a graph, entities are also known as *nodes*, and any link between entities is also called an *edge*.\n",
    "\n",
    "Examples of real world objects that can be modeled as graphs are social networks, where entities are people and relations denote friendship; and molecules, where entities are atoms and relations indicate a bond between them.\n",
    "\n",
    "There has been increased interest in the recent years in the application of deep learning architectures to graph-structured data, for tasks like predicting missing relations between entities, classifying entities, and classifying graphs. This interest has been spurred by the introduction of Graph Convolutional Networks (GCNs).\n",
    "\n",
    "In this assignment, you will implement and experiment with one of the first versions of the GCN, proposed by Thomas Kipf and Max Welling in their 2017 paper, [Semi-supervised Classification with Graph Convolutional Networks](https://arxiv.org/abs/1609.02907). In particular, the goals of this assignment are to\n",
    "\n",
    "- Understand how GCNs are formulated\n",
    "- Implement the GCN using PyTorch\n",
    "- Train and evaluate a model for semi-supervised node classification in citation networks\n",
    "- Train and evaluate a model for binary classification of molecules"
   ]
  },
  {
   "cell_type": "markdown",
   "metadata": {
    "id": "RvsuVNczG6pP",
    "pycharm": {
     "name": "#%% md\n"
    }
   },
   "source": [
    "### Representing graphs\n",
    "\n",
    "Suppose we have the following graph:\n",
    "\n",
    "<img src=\"https://raw.githubusercontent.com/dfdazac/dlvu-a5/main/img/01-graph.png\" width=\"200\">\n",
    "\n",
    "This is an undirected graph (since the edges have no specified direction) with 4 nodes. One way to represent the connectivity structure of the graph is by means of the **adjacency matrix**. The $i$-th row of the matrix contains a 1 in the $j$-th column, if nodes $i$ and $j$ are connected. For an undirected graph like the one above, this means that the adjacency matrix\n",
    "\n",
    "- Is symmetric (e.g. an edge between 0 and 2 is equivalent as an edge between 2 and 0)\n",
    "- Is square, of size $n\\times n$ where $n$ is the number of nodes\n",
    "\n",
    "The adjacency matrix for the graph above is then the following:\n",
    "\n",
    "$$\n",
    "A =\n",
    "\\begin{bmatrix}\n",
    "0 & 0 & 1 & 0 \\\\ \n",
    "0 & 0 & 1 & 0 \\\\\n",
    "1 & 1 & 0 & 1 \\\\\n",
    "0 & 0 & 1 & 0\n",
    "\\end{bmatrix}\n",
    "$$\n",
    "\n",
    "A second matrix of interest is the **degree matrix**. This is a diagonal matrix where the $i$-th element of the diagonal indicates the number of edges connected to node $i$. Note that these can be obtained from $A$ by summing across the columns, or the rows. For our example, the degree matrix is\n",
    "\n",
    "$$\n",
    "D = \\begin{bmatrix}\n",
    "1 & 0 & 0 & 0 \\\\ \n",
    "0 & 1 & 0 & 0 \\\\\n",
    "0 & 0 & 3 & 0 \\\\\n",
    "0 & 0 & 0 & 1\n",
    "\\end{bmatrix}\n",
    "$$\n",
    "\n",
    "For specific applications, each node in the graph will have an associated vector of features $x\\in\\mathbb{R}^c$. If our graph is a social network, then the vector of features can contain information like age, location, and musical tastes, in a specific numeric format. In the case of a molecule, the node could represent an atom and have features like the atomic mass, etc. We can lay out the features in a matrix $X\\in\\mathbb{R}^{n\\times c}$, so that the feature vector for node $i$ is in the $i$-th row."
   ]
  },
  {
   "cell_type": "markdown",
   "metadata": {
    "id": "zCEQ2ffzHCf2",
    "pycharm": {
     "name": "#%% md\n"
    }
   },
   "source": [
    "### Loading a citation network\n",
    "\n",
    "To move to a real world example, we will start with the Cora dataset. This dataset represents a citation network, where nodes are scientific publications, edges denote citations between them, and features are a [bag-of-words](https://en.wikipedia.org/wiki/Bag-of-words_model) extracted from their contents.\n",
    "\n",
    "This graph contains labels for nodes, that represent a specific topic. We will use these for a node classification task.\n",
    "\n",
    "To easily load it, we will use [PyTorch Geometric](https://pytorch-geometric.readthedocs.io/en/latest/index.html) (PyG), a deep learning library for graph-structured data."
   ]
  },
  {
   "cell_type": "code",
   "execution_count": null,
   "outputs": [],
   "source": [
    "# Install PyTorch Geometric\n",
    "!pip install torch-scatter torch-cluster torch-spline-conv torch-geometric #-f https://data.pyg.org/whl/torch-1.10.0+cu113.html\n",
    "!pip install git+https://github.com/rusty1s/pytorch_sparse.git"
   ],
   "metadata": {
    "collapsed": false,
    "pycharm": {
     "name": "#%%\n"
    }
   }
  },
  {
   "cell_type": "markdown",
   "source": [
    "We can now use the library to download and import the dataset. Initializing the `Planetoid` class returns a `Dataset` object that can contain multiple graphs. In this task we will only use the `Cora` dataset (the citation network) and hence, we will select only the first element."
   ],
   "metadata": {
    "collapsed": false,
    "pycharm": {
     "name": "#%% md\n"
    }
   }
  },
  {
   "cell_type": "code",
   "execution_count": 1,
   "outputs": [],
   "source": [
    "from torch_geometric.datasets import Planetoid\n",
    "data = Planetoid(root='data/Planetoid', name='Cora')[0]\n",
    "# data = data.to('mps')"
   ],
   "metadata": {
    "collapsed": false,
    "pycharm": {
     "name": "#%%\n"
    }
   }
  },
  {
   "cell_type": "markdown",
   "source": [
    "\n",
    "#### Question 1 (0.25 pt)\n",
    "\n",
    "The `data` object is an instance of the `Data` class in PyG. Check the [documentation](https://pytorch-geometric.readthedocs.io/en/latest/modules/data.html) and report the following properties of the graph:\n",
    "\n",
    "- Number of nodes\n",
    "- Number of edges \n",
    "- The dimension $c$ of the feature vectors $x\\in\\mathbb{R}^c$\n",
    "- The number of targets for the classification task"
   ],
   "metadata": {
    "collapsed": false,
    "pycharm": {
     "name": "#%% md\n"
    }
   }
  },
  {
   "cell_type": "code",
   "execution_count": 2,
   "outputs": [
    {
     "name": "stdout",
     "output_type": "stream",
     "text": [
      "Number of nodes: 2708\n",
      "Number of edges: 10556\n",
      "Dimension c of the feature vectors: 1433\n",
      "Number of targets for the classification task: 7\n"
     ]
    }
   ],
   "source": [
    "import numpy as np\n",
    "\n",
    "# Your answer here\n",
    "print(f'Number of nodes: {data.num_nodes}')\n",
    "print(f'Number of edges: {data.num_edges}')\n",
    "print(f'Dimension c of the feature vectors: {data.num_node_features}')\n",
    "n_classes = len(np.unique(data.y))\n",
    "print(f'Number of targets for the classification task: {n_classes}')"
   ],
   "metadata": {
    "collapsed": false,
    "pycharm": {
     "name": "#%%\n"
    }
   }
  },
  {
   "cell_type": "markdown",
   "source": [
    "#### Question 2 (0.25 pt)\n",
    "\n",
    "In PyG, edges are provided in a tensor of shape (2, number of edges). You can access it via `data.edge_index`. Each column in this tensor contains the IDs for two nodes that are connected in the graph.\n",
    "\n",
    "We saw that in an undirected graph, an edge between nodes $i$ and $j$ adds a value of 1 to positions $(i, j)$ and $(j, i)$ of the adjacency matrix. Is this also true for the edge index? That is, if there is an edge $(i, j)$ in `data.edge_index`, is there also an edge for $(j, i)$? This is important to know for the next steps of the implementation."
   ],
   "metadata": {
    "collapsed": false,
    "pycharm": {
     "name": "#%% md\n"
    }
   }
  },
  {
   "cell_type": "code",
   "execution_count": 3,
   "outputs": [
    {
     "name": "stdout",
     "output_type": "stream",
     "text": [
      "An edge between nodes i and j adds a value of 1 to positions (i, j) and (j, i) of the adjacency matrix.\n",
      "This is not also true for the edge index\n",
      "Because, the number of edges (10556) is also mentioned in the shape of data.edge_index: torch.Size([2, 10556])\n",
      "The edge_index property distinguishes the direction of the edge, for example it is possible that there's an edge from node 5 to node 2 but not from node 2 to node 5.\n",
      "In this case, the number of edges in the data is equal to the number of edges in edge_index. This indicates that for an edge i,j it doesn't hold that there is an edge j,i.\n"
     ]
    }
   ],
   "source": [
    "# Your answer here\n",
    "print('An edge between nodes i and j adds a value of 1 to positions (i, j) and (j, i) of the adjacency matrix.')\n",
    "print('This is not also true for the edge index')\n",
    "print(f'Because, the number of edges ({data.num_edges}) is also mentioned in the shape of data.edge_index: {data.edge_index.shape}')\n",
    "print(f'The edge_index property distinguishes the direction of the edge, for example it is possible that there\\'s an edge from node 5 to node 2 but not from node 2 to node 5.')\n",
    "print(\"In this case, the number of edges in the data is equal to the number of edges in edge_index. This indicates that for an edge i,j it doesn't hold that there is an edge j,i.\")"
   ],
   "metadata": {
    "collapsed": false,
    "pycharm": {
     "name": "#%%\n"
    }
   }
  },
  {
   "cell_type": "markdown",
   "source": [
    "#### Question 3 (0.5 pt)\n",
    "\n",
    "In graphs, especially large ones, the adjacency matrix is **sparse**: most entries are zero. Sparse matrices allow for efficient storage and computation.\n",
    "\n",
    "To prepare and pre-process sparse matrices, we will use [`scipy.sparse`](https://docs.scipy.org/doc/scipy/reference/sparse.html). Once the matrices are ready, we will convert them to PyTorch tensors.\n",
    "\n",
    "We will use the [Sparse COO format](https://en.wikipedia.org/wiki/Sparse_matrix#Coordinate_list_(COO)). We encourage you to first get familiar with how it works after continuing with the assignment.\n",
    "\n",
    "- Use the [`scipy.sparse.coo_matrix()`](https://docs.scipy.org/doc/scipy/reference/generated/scipy.sparse.coo_matrix.html) function to build the adjacency matrix. Think of what arguments are needed, and how you can obtain them from the graph data loaded above.\n",
    "- Use the `sum()` method of sparse matrices, together with `scipy.sparse.diags()`, to compute the degree matrix using the definition above.\n",
    "\n",
    "Both resulting matrices must be sparse of type `float32`."
   ],
   "metadata": {
    "collapsed": false,
    "pycharm": {
     "name": "#%% md\n"
    }
   }
  },
  {
   "cell_type": "code",
   "metadata": {
    "id": "QC01OjbJs92-",
    "pycharm": {
     "name": "#%%\n"
    }
   },
   "source": [
    "# Your answer here\n",
    "from scipy.sparse import coo_matrix, diags\n",
    "import numpy as np\n",
    "\n",
    "# The rows and columns can be extracted from the edge_index of the dataset\n",
    "row = data.edge_index[0]\n",
    "col = data.edge_index[1]\n",
    "num_edges = data.edge_index.shape[1]\n",
    "# All the indices in the row and col vector are connected with each other, therefore we can generate a 1 (connection) for all of them\n",
    "d = np.ones(num_edges, dtype=np.float32)\n",
    "coo_mat = coo_matrix((d, (row, col)), shape=(data.num_nodes, data.num_nodes), dtype=np.float32)\n",
    "print(f'Adjacency matrix of the dataset generated with the coo_matrix() function:\\n{coo_mat.toarray()}')\n",
    "\n",
    "print()\n",
    "\n",
    "# Use the sum() method to get the number of edges for each row in the adjacency matrix\n",
    "diagonal = coo_mat.sum(axis=0, dtype=np.float32).A1\n",
    "# Use the diags() method to construct the corresponding degree matrix from the diagonal computed above\n",
    "diags_mat = diags(diagonal, dtype=np.float32)\n",
    "print(f'Degree matrix of the dataset generated with the diags() function:\\n{diags_mat.toarray()}')"
   ],
   "execution_count": 4,
   "outputs": [
    {
     "name": "stdout",
     "output_type": "stream",
     "text": [
      "Adjacency matrix of the dataset generated with the coo_matrix() function:\n",
      "[[0. 0. 0. ... 0. 0. 0.]\n",
      " [0. 0. 1. ... 0. 0. 0.]\n",
      " [0. 1. 0. ... 0. 0. 0.]\n",
      " ...\n",
      " [0. 0. 0. ... 0. 0. 0.]\n",
      " [0. 0. 0. ... 0. 0. 1.]\n",
      " [0. 0. 0. ... 0. 1. 0.]]\n",
      "\n",
      "Degree matrix of the dataset generated with the diags() function:\n",
      "[[3. 0. 0. ... 0. 0. 0.]\n",
      " [0. 3. 0. ... 0. 0. 0.]\n",
      " [0. 0. 5. ... 0. 0. 0.]\n",
      " ...\n",
      " [0. 0. 0. ... 1. 0. 0.]\n",
      " [0. 0. 0. ... 0. 4. 0.]\n",
      " [0. 0. 0. ... 0. 0. 4.]]\n"
     ]
    }
   ]
  },
  {
   "cell_type": "markdown",
   "metadata": {
    "id": "AIEJyQi2TzyY",
    "pycharm": {
     "name": "#%% md\n"
    }
   },
   "source": [
    "You might wonder why we suggest to use a scipy sparse matrix, while also PyTorch supports them. The reason is that in the next step, we will be multiplying two sparse matrices, an operation not supported in PyTorch. PyTorch only allows multiplying a sparse matrix with a dense one, something which we will be doing at a later stage.\n",
    "\n"
   ]
  },
  {
   "cell_type": "markdown",
   "metadata": {
    "id": "YlmzSb0up4LB",
    "pycharm": {
     "name": "#%% md\n"
    }
   },
   "source": [
    "### The Graph Convolutional Network\n",
    "\n",
    "The goal of the graph convolution is to take the feature vectors of all nodes $X\\in\\mathbb{R}^{n\\times c}$, and propagate them along the existing edges, to obtain updated representations $Z\\in\\mathbb{R}^{n\\times d}$.\n",
    "\n",
    "\n",
    "The GCN is initially motivated as performing a convolution, similarly as it is done in CNNs for images, for graph-structured data. In Kipf and Welling (2017), a theoretical derivation leads to the following formula:\n",
    "\n",
    "$$\n",
    "Z = \\tilde{D}^{-\\frac{1}{2}}\\tilde{A}\\tilde{D}^{-\\frac{1}{2}}XW\n",
    "$$\n",
    "\n",
    "where\n",
    "\n",
    "- $W\\in\\mathbb{R}^{c\\times d}$ is a matrix of parameters to be learned via gradient descent\n",
    "- $\\tilde{A} = A + I_n$, where $I_n$ is an $n\\times n$ identity matrix\n",
    "- $\\tilde{D}$ is the degree matrix computed with $\\tilde{A}$ as the adjacency matrix\n",
    "\n",
    "If we define $\\hat{A} = \\tilde{D}^{-\\frac{1}{2}}\\tilde{A}\\tilde{D}^{-\\frac{1}{2}}$, the graph convolution can be written as $Z = \\hat{A}XW$."
   ]
  },
  {
   "cell_type": "markdown",
   "metadata": {
    "id": "LL4b-MTvysBp",
    "pycharm": {
     "name": "#%% md\n"
    }
   },
   "source": [
    "#### Question 4 (0.25 pt)\n",
    "Given the formula for the GCN, explain why it operates by propagating feature vectors across the graph. To answer this, it might be useful to recall the definitions of the adjacency and degree matrices, and how they are involved in the formula."
   ]
  },
  {
   "cell_type": "markdown",
   "metadata": {
    "id": "Vgx2SkTTyiSN",
    "pycharm": {
     "name": "#%% md\n"
    }
   },
   "source": [
    "*Your answer here*\n",
    "The GCN operates by propagating feature vectors across the graph. We will try to explain this by elaborating on the different variables in formula $Z$:\n",
    "\n",
    "$\\tilde{A}$ is constructed by adding up the identity matrix to the adjacency matrix. This makes sure that every node is connected to itself.\n",
    "Using $\\tilde{A}$, $\\tilde{D}$ (the degree matrix) is constructed, as we did in question 3. $\\tilde{D}$ represents the weight of every node as in the no. edges it has. However, the power of this matrix is reduced by normalizing it (using the power of $-\\frac{1}{2}$)."
   ]
  },
  {
   "cell_type": "markdown",
   "metadata": {
    "id": "QUGABEqxylsd",
    "pycharm": {
     "name": "#%% md\n"
    }
   },
   "source": [
    "#### Question 5 (0.5 pt)\n",
    "\n",
    "Compute the **normalized adjacency matrix** $\\hat{A}$. The result should be a sparse matrix."
   ]
  },
  {
   "cell_type": "code",
   "metadata": {
    "id": "GPZbnSaSyDzO",
    "pycharm": {
     "name": "#%%\n"
    }
   },
   "source": [
    "from scipy.sparse import identity\n",
    "\n",
    "a = coo_mat\n",
    "a_tilde = a + identity(a.shape[0], dtype=np.float32)\n",
    "diagonal = a_tilde.sum(axis=0, dtype=np.float32).A1\n",
    "d_tilde = diags(diagonal, dtype=np.float32)\n",
    "a_hat = d_tilde.power(-.5) @ a_tilde @ d_tilde.power(-.5)\n",
    "a_hat = a_hat.toarray()"
   ],
   "execution_count": 5,
   "outputs": []
  },
  {
   "cell_type": "markdown",
   "metadata": {
    "id": "LLLdGdZoMEy-",
    "pycharm": {
     "name": "#%% md\n"
    }
   },
   "source": [
    "#### Question 6 (0.5 pt)\n",
    "\n",
    "So far we have used scipy to build and compute sparse matrices. Since we want to train a GCN with PyTorch, we need to convert $\\hat{A}$ into a sparse PyTorch tensor. You can do this with the [`torch.sparse_coo_tensor()`](https://pytorch.org/docs/stable/generated/torch.sparse_coo_tensor.html) function, making sure to specify `torch.float` as the type."
   ]
  },
  {
   "cell_type": "code",
   "metadata": {
    "id": "dgDsVHzEM32F",
    "pycharm": {
     "name": "#%%\n"
    }
   },
   "source": [
    "from torch import sparse_coo_tensor\n",
    "import torch\n",
    "\n",
    "# Your answer here\n",
    "# The indices can be constructed using np.arange(), as the matrix a_hat only contains non-zero values on the diagonal\n",
    "indices = torch.tensor([np.arange(data.num_nodes), np.arange(data.num_nodes)])\n",
    "# Extract the values that correspond to the indices\n",
    "values = torch.tensor(np.array(np.diagonal(a_hat)))\n",
    "# Now use the indices and values to construct the sparse COO tensor\n",
    "sparse_coo = sparse_coo_tensor(indices, values, dtype=torch.float)\n",
    "sparse_coo\n"
   ],
   "execution_count": 99,
   "outputs": [
    {
     "data": {
      "text/plain": "tensor(indices=tensor([[   0,    1,    2,  ..., 2705, 2706, 2707],\n                       [   0,    1,    2,  ..., 2705, 2706, 2707]]),\n       values=tensor([0.2500, 0.2500, 0.1667,  ..., 0.5000, 0.2000, 0.2000]),\n       size=(2708, 2708), nnz=2708, layout=torch.sparse_coo)"
     },
     "execution_count": 99,
     "metadata": {},
     "output_type": "execute_result"
    }
   ]
  },
  {
   "cell_type": "markdown",
   "metadata": {
    "id": "eAlRVT5aODkX",
    "pycharm": {
     "name": "#%% md\n"
    }
   },
   "source": [
    "#### Question 7 (0.5 pt)\n",
    "\n",
    "We now have all the ingredients to build a GCN layer. Implement a class (inheriting from `torch.nn.Module`) with a learnable matrix of weights $W\\in\\mathbb{R}^{c\\times d}$. Make sure to\n",
    "\n",
    "- Call this class `GCNLayer`\n",
    "- The `__init__()` constructor should take as argument the number of input and output features.\n",
    "- Use `torch.nn.init.kaiming_uniform_` to initialize $W$.\n",
    "- Define the `forward` method, which takes as input $X$ and $\\hat{A}$ and returns $Z$. Note that multiplications involving the sparse matrix $\\hat{A}$ have to be done with `torch.spmm`. \n",
    "\n",
    "Once you have implemented the class, instantiate a layer with the correct number of input features for the Cora dataset, and a number of output features of your choice. Do a forward pass and report the shape of the output tensor."
   ]
  },
  {
   "cell_type": "code",
   "metadata": {
    "id": "JFCohhhwPpTT",
    "pycharm": {
     "name": "#%%\n"
    }
   },
   "source": [
    "# Your answer here\n",
    "class GCNLayer(torch.nn.Module):\n",
    "    def __init__(self, n_input_features, n_output_features):\n",
    "        super().__init__()\n",
    "        self.W = torch.nn.parameter.Parameter(torch.empty(n_input_features, n_output_features))\n",
    "        torch.nn.init.kaiming_uniform_(self.W, nonlinearity='relu')\n",
    "\n",
    "    def forward(self, X, A_hat):\n",
    "        Z = torch.spmm(torch.mm(X.T, A_hat).T, self.W)\n",
    "        return Z\n",
    "\n",
    "gcn_layer = GCNLayer(data.num_features, n_classes)\n",
    "output_tensor = gcn_layer.forward(data.x, torch.tensor(a_hat))\n",
    "print(f'Shape of the output tensor: {output_tensor.shape}')"
   ],
   "execution_count": 7,
   "outputs": [
    {
     "name": "stdout",
     "output_type": "stream",
     "text": [
      "Shape of the output tensor: torch.Size([2708, 7])\n"
     ]
    }
   ]
  },
  {
   "cell_type": "markdown",
   "metadata": {
    "id": "1ptAiizZUKaM",
    "pycharm": {
     "name": "#%% md\n"
    }
   },
   "source": [
    "#### Question 8 (0.5 pt)\n",
    "\n",
    "As we have seen so far, the GCN layer implements a special type of linear transformation of the inputs. However, it is often beneficial in deep learning to stack multiple, non-linear transformations of the input features. Implement a second module class for a model with two GCN layers (use the module you implemented in the previous question).\n",
    "\n",
    "- Call this class `GCN`\n",
    "- The constructor must now take as input the number of input features, the output dimension of the first layer (this is the hidden layer), and the output dimension of the output layer.\n",
    "- In the forward pass, add a ReLU activation function after the first layer."
   ]
  },
  {
   "cell_type": "code",
   "metadata": {
    "id": "2zhyu3S9Vj3b",
    "pycharm": {
     "name": "#%%\n"
    }
   },
   "source": [
    "import torch_geometric\n",
    "\n",
    "# Your answer here\n",
    "class GCN(torch.nn.Module):\n",
    "    def __init__(self, n_input_features, out_dim_hid, out_dim_out):\n",
    "        super().__init__()\n",
    "        self.hidden = GCNLayer(n_input_features=n_input_features, n_output_features=out_dim_hid)\n",
    "        self.relu = torch.nn.ReLU()\n",
    "        self.output = GCNLayer(n_input_features=out_dim_hid, n_output_features=out_dim_out)\n",
    "        self.softmax = torch.nn.Softmax(dim=1)\n",
    "\n",
    "    def forward(self, X, A_hat):\n",
    "        X = self.hidden(X, A_hat)\n",
    "        X = self.relu(X)\n",
    "        X = self.output(X, A_hat)\n",
    "        X = self.softmax(X)\n",
    "        return X"
   ],
   "execution_count": 8,
   "outputs": []
  },
  {
   "cell_type": "markdown",
   "metadata": {
    "id": "6NVB-3I5Wfkf",
    "pycharm": {
     "name": "#%% md\n"
    }
   },
   "source": [
    "### GCNs for semi-supervised node classification\n",
    "\n",
    "Now that we have a GCN with two layers, we can test its performance in a node classification task. We will pass the input node features $X$ through the GCN layers, and the output will be of size $n\\times k$ where $k$ is the number of classes (which you found in question 1). The label denotes the topic an article in the citation network belongs to (e.g. physics, computer science, etc.)."
   ]
  },
  {
   "cell_type": "markdown",
   "metadata": {
    "id": "trc4dSa7cuQj",
    "pycharm": {
     "name": "#%% md\n"
    }
   },
   "source": [
    "#### Question 9 (1.5 pt)\n",
    "\n",
    "Note that the `data` object contains all labels (for all splits) in `data.y`, and binary masks for the train, validation, and test splits in `data.train_mask`, `data.val_mask`, and `data.test_mask`, respectively. These masks are the same size as `data.y`, and indicate which labels belong to which split.\n",
    "\n",
    "- Create a GCN with two layers (using the class from the previous question), with 32 as the hidden dimension, and the number of output features equal to the number of classes in the Cora dataset.\n",
    "\n",
    "- Use the Adam optimizer with a learning rate of 0.01.\n",
    "\n",
    "- Implement a training loop for the GCN. At each step, pass $X$ and $\\hat{A}$ to the GCN to obtain the logits. Compute the mean cross-entropy loss **only for the training instances**, using the binary masks.\n",
    "\n",
    "- After each training step, evaluate the accuracy for the validation instances.\n",
    "\n",
    "- Train for 100 epochs. Once training is finished, plot the training loss and validation accuracy (in a graph in function of the epoch number), and report the accuracy in the test set.\n",
    "\n",
    "You should obtain an accuracy over 75% on both the validation and test sets. You can also compare your results with the original paper, which also contains results for the Cora dataset. Give a brief discussion on the results of your experiments.\n",
    "\n",
    "Note that in contrast with other tasks, like image classification on some datasets, we don't use mini-batches here. The whole matrix of features and the adjacency is passed to the GCN in one step."
   ]
  },
  {
   "cell_type": "code",
   "metadata": {
    "id": "5Z2OP_ZRWlmo",
    "pycharm": {
     "name": "#%%\n"
    }
   },
   "source": [
    "# Your answer here\n",
    "import time\n",
    "\n",
    "A_hat = torch.tensor(a_hat)\n",
    "\n",
    "gcn = GCN(n_input_features=data.num_features, out_dim_hid=32, out_dim_out=n_classes)\n",
    "optimizer = torch.optim.Adam(lr=0.01, params=gcn.parameters())\n",
    "criterion = torch.nn.CrossEntropyLoss()\n",
    "\n",
    "def evaluate(A_hat, data, gcn, mask):\n",
    "    gcn.eval()\n",
    "    n_instances = mask.sum().item()\n",
    "    outputs = gcn(data.x, A_hat)[mask]\n",
    "    predicted_classes = torch.argmax(outputs, dim=1)\n",
    "    n_correct = (predicted_classes == data.y[mask]).sum().item()\n",
    "    acc = n_correct / n_instances\n",
    "    return acc\n",
    "\n",
    "def training_loop(epochs, data, A_hat, optimizer, criterion, gcn):\n",
    "    train_n_instances = data.train_mask.sum()\n",
    "    results = {\n",
    "        'epoch': [],\n",
    "        'train_loss': [],\n",
    "        'val_acc': []\n",
    "    }\n",
    "    gcn.train()\n",
    "    for epoch in range(epochs):\n",
    "        start = time.time()\n",
    "\n",
    "        optimizer.zero_grad()\n",
    "        outputs = gcn(data.x, A_hat)[data.train_mask]\n",
    "        predicted_classes = torch.argmax(outputs, dim=1)\n",
    "        n_correct_train = (predicted_classes == data.y[data.train_mask]).sum().item()\n",
    "        loss = criterion(outputs, data.y[data.train_mask].type(torch.long))\n",
    "        running_loss_train = loss.item()\n",
    "        loss.backward()\n",
    "        optimizer.step()\n",
    "        results['epoch'].append(epoch + 1)\n",
    "        results['train_loss'].append(running_loss_train)\n",
    "        results['val_acc'].append(evaluate(A_hat=A_hat, data=data, gcn=gcn, mask=data.val_mask))\n",
    "        print(f'Epoch {epoch + 1}/{epochs}, loss: {(running_loss_train):.3f}, accuracy: {(n_correct_train / train_n_instances):.3f}, time: {(time.time() - start):2f} seconds')\n",
    "    return gcn, results\n",
    "\n",
    "epochs = 100\n",
    "gcn, results = training_loop(\n",
    "    epochs=epochs,\n",
    "    data=data,\n",
    "    A_hat=A_hat,\n",
    "    optimizer=optimizer,\n",
    "    criterion=criterion,\n",
    "    gcn=gcn)\n",
    "test_acc = evaluate(A_hat=A_hat, data=data, gcn=gcn, mask=data.test_mask)"
   ],
   "execution_count": 16,
   "outputs": [
    {
     "name": "stdout",
     "output_type": "stream",
     "text": [
      "Epoch 1/100, loss: 1.965, accuracy: 0.150, time: 0.047755 seconds\n",
      "Epoch 2/100, loss: 1.905, accuracy: 0.250, time: 0.037761 seconds\n",
      "Epoch 3/100, loss: 1.837, accuracy: 0.386, time: 0.041571 seconds\n",
      "Epoch 4/100, loss: 1.763, accuracy: 0.500, time: 0.036079 seconds\n",
      "Epoch 5/100, loss: 1.687, accuracy: 0.664, time: 0.037656 seconds\n",
      "Epoch 6/100, loss: 1.614, accuracy: 0.714, time: 0.036445 seconds\n",
      "Epoch 7/100, loss: 1.547, accuracy: 0.764, time: 0.041768 seconds\n",
      "Epoch 8/100, loss: 1.490, accuracy: 0.786, time: 0.038555 seconds\n",
      "Epoch 9/100, loss: 1.439, accuracy: 0.850, time: 0.037779 seconds\n",
      "Epoch 10/100, loss: 1.394, accuracy: 0.886, time: 0.039282 seconds\n",
      "Epoch 11/100, loss: 1.354, accuracy: 0.914, time: 0.037769 seconds\n",
      "Epoch 12/100, loss: 1.318, accuracy: 0.936, time: 0.036185 seconds\n",
      "Epoch 13/100, loss: 1.287, accuracy: 0.950, time: 0.037440 seconds\n",
      "Epoch 14/100, loss: 1.262, accuracy: 0.957, time: 0.040637 seconds\n",
      "Epoch 15/100, loss: 1.242, accuracy: 0.971, time: 0.038393 seconds\n",
      "Epoch 16/100, loss: 1.228, accuracy: 0.971, time: 0.036881 seconds\n",
      "Epoch 17/100, loss: 1.217, accuracy: 0.979, time: 0.036785 seconds\n",
      "Epoch 18/100, loss: 1.208, accuracy: 0.979, time: 0.037178 seconds\n",
      "Epoch 19/100, loss: 1.202, accuracy: 0.979, time: 0.037172 seconds\n",
      "Epoch 20/100, loss: 1.196, accuracy: 0.979, time: 0.048151 seconds\n",
      "Epoch 21/100, loss: 1.190, accuracy: 0.986, time: 0.037945 seconds\n",
      "Epoch 22/100, loss: 1.185, accuracy: 0.986, time: 0.042003 seconds\n",
      "Epoch 23/100, loss: 1.182, accuracy: 0.986, time: 0.038417 seconds\n",
      "Epoch 24/100, loss: 1.179, accuracy: 0.993, time: 0.036470 seconds\n",
      "Epoch 25/100, loss: 1.177, accuracy: 0.993, time: 0.040072 seconds\n",
      "Epoch 26/100, loss: 1.175, accuracy: 0.993, time: 0.039680 seconds\n",
      "Epoch 27/100, loss: 1.174, accuracy: 0.993, time: 0.036777 seconds\n",
      "Epoch 28/100, loss: 1.172, accuracy: 0.993, time: 0.038723 seconds\n",
      "Epoch 29/100, loss: 1.170, accuracy: 1.000, time: 0.037678 seconds\n",
      "Epoch 30/100, loss: 1.169, accuracy: 1.000, time: 0.038592 seconds\n",
      "Epoch 31/100, loss: 1.169, accuracy: 1.000, time: 0.038156 seconds\n",
      "Epoch 32/100, loss: 1.168, accuracy: 1.000, time: 0.037346 seconds\n",
      "Epoch 33/100, loss: 1.168, accuracy: 1.000, time: 0.039176 seconds\n",
      "Epoch 34/100, loss: 1.167, accuracy: 1.000, time: 0.036792 seconds\n",
      "Epoch 35/100, loss: 1.167, accuracy: 1.000, time: 0.038212 seconds\n",
      "Epoch 36/100, loss: 1.167, accuracy: 1.000, time: 0.037386 seconds\n",
      "Epoch 37/100, loss: 1.166, accuracy: 1.000, time: 0.039529 seconds\n",
      "Epoch 38/100, loss: 1.166, accuracy: 1.000, time: 0.036171 seconds\n",
      "Epoch 39/100, loss: 1.166, accuracy: 1.000, time: 0.035561 seconds\n",
      "Epoch 40/100, loss: 1.166, accuracy: 1.000, time: 0.035918 seconds\n",
      "Epoch 41/100, loss: 1.166, accuracy: 1.000, time: 0.036337 seconds\n",
      "Epoch 42/100, loss: 1.166, accuracy: 1.000, time: 0.036579 seconds\n",
      "Epoch 43/100, loss: 1.166, accuracy: 1.000, time: 0.038636 seconds\n",
      "Epoch 44/100, loss: 1.166, accuracy: 1.000, time: 0.036797 seconds\n",
      "Epoch 45/100, loss: 1.166, accuracy: 1.000, time: 0.035991 seconds\n",
      "Epoch 46/100, loss: 1.166, accuracy: 1.000, time: 0.038814 seconds\n",
      "Epoch 47/100, loss: 1.166, accuracy: 1.000, time: 0.040405 seconds\n",
      "Epoch 48/100, loss: 1.166, accuracy: 1.000, time: 0.040894 seconds\n",
      "Epoch 49/100, loss: 1.166, accuracy: 1.000, time: 0.038201 seconds\n",
      "Epoch 50/100, loss: 1.166, accuracy: 1.000, time: 0.035818 seconds\n",
      "Epoch 51/100, loss: 1.166, accuracy: 1.000, time: 0.035686 seconds\n",
      "Epoch 52/100, loss: 1.166, accuracy: 1.000, time: 0.036532 seconds\n",
      "Epoch 53/100, loss: 1.166, accuracy: 1.000, time: 0.036057 seconds\n",
      "Epoch 54/100, loss: 1.166, accuracy: 1.000, time: 0.036554 seconds\n",
      "Epoch 55/100, loss: 1.166, accuracy: 1.000, time: 0.037844 seconds\n",
      "Epoch 56/100, loss: 1.166, accuracy: 1.000, time: 0.036956 seconds\n",
      "Epoch 57/100, loss: 1.166, accuracy: 1.000, time: 0.035748 seconds\n",
      "Epoch 58/100, loss: 1.166, accuracy: 1.000, time: 0.036790 seconds\n",
      "Epoch 59/100, loss: 1.166, accuracy: 1.000, time: 0.037033 seconds\n",
      "Epoch 60/100, loss: 1.166, accuracy: 1.000, time: 0.036705 seconds\n",
      "Epoch 61/100, loss: 1.166, accuracy: 1.000, time: 0.037013 seconds\n",
      "Epoch 62/100, loss: 1.166, accuracy: 1.000, time: 0.035748 seconds\n",
      "Epoch 63/100, loss: 1.166, accuracy: 1.000, time: 0.036525 seconds\n",
      "Epoch 64/100, loss: 1.166, accuracy: 1.000, time: 0.036449 seconds\n",
      "Epoch 65/100, loss: 1.166, accuracy: 1.000, time: 0.035516 seconds\n",
      "Epoch 66/100, loss: 1.166, accuracy: 1.000, time: 0.036770 seconds\n",
      "Epoch 67/100, loss: 1.166, accuracy: 1.000, time: 0.038192 seconds\n",
      "Epoch 68/100, loss: 1.166, accuracy: 1.000, time: 0.035781 seconds\n",
      "Epoch 69/100, loss: 1.166, accuracy: 1.000, time: 0.038275 seconds\n",
      "Epoch 70/100, loss: 1.166, accuracy: 1.000, time: 0.036829 seconds\n",
      "Epoch 71/100, loss: 1.166, accuracy: 1.000, time: 0.036351 seconds\n",
      "Epoch 72/100, loss: 1.166, accuracy: 1.000, time: 0.037172 seconds\n",
      "Epoch 73/100, loss: 1.166, accuracy: 1.000, time: 0.042045 seconds\n",
      "Epoch 74/100, loss: 1.166, accuracy: 1.000, time: 0.044907 seconds\n",
      "Epoch 75/100, loss: 1.166, accuracy: 1.000, time: 0.040135 seconds\n",
      "Epoch 76/100, loss: 1.166, accuracy: 1.000, time: 0.037358 seconds\n",
      "Epoch 77/100, loss: 1.166, accuracy: 1.000, time: 0.036544 seconds\n",
      "Epoch 78/100, loss: 1.166, accuracy: 1.000, time: 0.040712 seconds\n",
      "Epoch 79/100, loss: 1.166, accuracy: 1.000, time: 0.036888 seconds\n",
      "Epoch 80/100, loss: 1.166, accuracy: 1.000, time: 0.037036 seconds\n",
      "Epoch 81/100, loss: 1.166, accuracy: 1.000, time: 0.035624 seconds\n",
      "Epoch 82/100, loss: 1.166, accuracy: 1.000, time: 0.036556 seconds\n",
      "Epoch 83/100, loss: 1.166, accuracy: 1.000, time: 0.036714 seconds\n",
      "Epoch 84/100, loss: 1.166, accuracy: 1.000, time: 0.037873 seconds\n",
      "Epoch 85/100, loss: 1.166, accuracy: 1.000, time: 0.038815 seconds\n",
      "Epoch 86/100, loss: 1.166, accuracy: 1.000, time: 0.037108 seconds\n",
      "Epoch 87/100, loss: 1.166, accuracy: 1.000, time: 0.041869 seconds\n",
      "Epoch 88/100, loss: 1.166, accuracy: 1.000, time: 0.037560 seconds\n",
      "Epoch 89/100, loss: 1.166, accuracy: 1.000, time: 0.035413 seconds\n",
      "Epoch 90/100, loss: 1.166, accuracy: 1.000, time: 0.039324 seconds\n",
      "Epoch 91/100, loss: 1.166, accuracy: 1.000, time: 0.037767 seconds\n",
      "Epoch 92/100, loss: 1.166, accuracy: 1.000, time: 0.037121 seconds\n",
      "Epoch 93/100, loss: 1.166, accuracy: 1.000, time: 0.035402 seconds\n",
      "Epoch 94/100, loss: 1.166, accuracy: 1.000, time: 0.035183 seconds\n",
      "Epoch 95/100, loss: 1.166, accuracy: 1.000, time: 0.035882 seconds\n",
      "Epoch 96/100, loss: 1.166, accuracy: 1.000, time: 0.038394 seconds\n",
      "Epoch 97/100, loss: 1.166, accuracy: 1.000, time: 0.036932 seconds\n",
      "Epoch 98/100, loss: 1.166, accuracy: 1.000, time: 0.035491 seconds\n",
      "Epoch 99/100, loss: 1.166, accuracy: 1.000, time: 0.040852 seconds\n",
      "Epoch 100/100, loss: 1.166, accuracy: 1.000, time: 0.040571 seconds\n"
     ]
    }
   ]
  },
  {
   "cell_type": "code",
   "execution_count": 17,
   "outputs": [
    {
     "data": {
      "text/plain": "<Figure size 640x480 with 1 Axes>",
      "image/png": "[encoded data removed]"
     },
     "metadata": {},
     "output_type": "display_data"
    }
   ],
   "source": [
    "import matplotlib.pyplot as plt\n",
    "\n",
    "epochs = results['epoch']\n",
    "train_loss = results['train_loss']\n",
    "plt.plot(epochs, train_loss)\n",
    "plt.title('Train loss (cross-entropy) per epoch')\n",
    "plt.xlabel('Epoch')\n",
    "plt.ylabel('Cross-entropy loss')\n",
    "plt.show()"
   ],
   "metadata": {
    "collapsed": false,
    "pycharm": {
     "name": "#%%\n"
    }
   }
  },
  {
   "cell_type": "code",
   "execution_count": 18,
   "outputs": [
    {
     "data": {
      "text/plain": "<Figure size 640x480 with 1 Axes>",
      "image/png": "[encoded data removed]"
     },
     "metadata": {},
     "output_type": "display_data"
    }
   ],
   "source": [
    "val_acc = results['val_acc']\n",
    "plt.plot(epochs, val_acc)\n",
    "plt.title('Validation accuracy per epoch')\n",
    "plt.xlabel('Epoch')\n",
    "plt.ylabel('Accuracy')\n",
    "plt.show()"
   ],
   "metadata": {
    "collapsed": false,
    "pycharm": {
     "name": "#%%\n"
    }
   }
  },
  {
   "cell_type": "code",
   "execution_count": 23,
   "outputs": [
    {
     "name": "stdout",
     "output_type": "stream",
     "text": [
      "Test accuracy: 0.778\n",
      "In the results illustrated above we see that the cross-entropy loss of the training set drops very quickly at the beginning\n",
      "Then, it stagnates and continues to drop very slowly over the remaining epochs\n",
      "\n",
      "In the plot of the validation accuracy per epoch, we see that the accuracy increases rapidly at the start and then stagnates for a number of epochs\n",
      "Although it is remarkable to see that the accuracy seems to have a rising trend starting from epoch 60, indicating that training for a longer time may be beneficial\n",
      "\n",
      "In the plot of the validation accuracy we see that the highest accuracy is around 0.76, which is close to the test accuracy of 0.778.\n",
      "This indicates that there's no symptoms of over fitting on the validation set\n"
     ]
    }
   ],
   "source": [
    "print(f'Test accuracy: {test_acc}')\n",
    "\n",
    "print('In the results illustrated above we see that the cross-entropy loss of the training set drops very quickly at the beginning')\n",
    "print('Then, it stagnates and continues to drop very slowly over the remaining epochs\\n')\n",
    "\n",
    "print('In the plot of the validation accuracy per epoch, we see that the accuracy increases rapidly at the start and then stagnates for a number of epochs')\n",
    "print('Although it is remarkable to see that the accuracy seems to have a rising trend starting from epoch 60, indicating that training for a longer time may be beneficial\\n')\n",
    "\n",
    "print(f'In the plot of the validation accuracy we see that the highest accuracy is around 0.76, which is close to the test accuracy of {test_acc}.')\n",
    "print('This indicates that there\\'s no symptoms of over fitting on the validation set')"
   ],
   "metadata": {
    "collapsed": false,
    "pycharm": {
     "name": "#%%\n"
    }
   }
  },
  {
   "cell_type": "markdown",
   "metadata": {
    "id": "vb5YjHVClCqo",
    "pycharm": {
     "name": "#%% md\n"
    }
   },
   "source": [
    "#### Question 10 (0.5 pt)\n",
    "\n",
    "The paper introduces GCNs as a way to solve a *semi-supervised* classification problem.\n",
    "\n",
    "- What makes this problem semi-supervised?\n",
    "- What is the proportion of labeled data used for training with respect to labeled data in the validation and test sets? What is difference in this context with other benchmark tasks in machine learning, like image classification with MNIST?\n",
    "- Why do you think the GCN performs well in this semi-supervised scenario?"
   ]
  },
  {
   "cell_type": "code",
   "metadata": {
    "id": "7qw58r1MmCUJ",
    "pycharm": {
     "name": "#%%\n"
    }
   },
   "source": [
    "# Your answer here\n",
    "print('This problem is semi-supervised because, labels are only available for a small subset of nodes.\\n')\n",
    "\n",
    "proportion = (data.train_mask.sum() / (data.val_mask.sum() + data.train_mask.sum())) * 100\n",
    "print(f'The proportion of labeled training data with respect to the labeled test and validation data is {proportion}%')\n",
    "print('The difference in this context with other benchmark tasks in machine learning is that the proportion of training instances is very small.')\n",
    "print('A typical data split utilizes around 60-70% of the entire labeled dataset for the training set\\n')\n",
    "\n",
    "print('By training the GCN model on the adjacency matrix which contains both labelled and unlabelled data, it causes the model to learn a larger graph representation, than it would if it only had access to labelled nodes.')\n",
    "print('Using this representation it can then infer information from it, allowing for better classification on unseen data.')\n"
   ],
   "execution_count": 27,
   "outputs": [
    {
     "name": "stdout",
     "output_type": "stream",
     "text": [
      "This problem is semi-supervised because, labels are only available for a small subset of nodes.\n",
      "\n",
      "The proportion of labeled training data with respect to the labeled test and validation data is 21.875%\n",
      "The difference in this context with other benchmark tasks in machine learning is that the proportion of training instances is very small.\n",
      "A typical data split utilizes around 60-70% of the entire labeled dataset for the training set\n",
      "\n",
      "By training the GCN model on the adjacency matrix which contains both labelled and unlabelled data, it causes the model to learn a larger graph representation, than it would if it only had access to labelled nodes.\n",
      "Using this representation it can then infer information from it, allowing for better classification on unseen data.\n"
     ]
    }
   ]
  },
  {
   "cell_type": "markdown",
   "metadata": {
    "id": "4ihrjZddvz5d",
    "pycharm": {
     "name": "#%% md\n"
    }
   },
   "source": [
    "### Loading a dataset of proteins\n",
    "\n",
    "In the previous sections you learned how to pass the adjacency matrix of a graph with a couple of thousand of nodes, to classify each node with a particular label. A different and useful application of GCNs is graph classification.\n",
    "\n",
    "In contrast with the previous part, where there was a single, big graph, in graph classification we have multiple graphs, and each graph can be assigned a label. In this part of the assignment you will implement a classifier for proteins.\n",
    "\n",
    "[Proteins](https://en.wikipedia.org/wiki/Protein_(nutrient)) are parts of the buildings block of life. They consist of chains of amino acids, and can take many shapes. In the PROTEINS dataset, proteins are represented as graphs, where the nodes are amino acids, and an edge between them indicates that they are 6 [Angstroms](https://en.wikipedia.org/wiki/Angstrom) apart. All graphs have a binary label, where 1 means that the protein is not an enzyme.\n",
    "\n",
    "We will start by loading and examining this dataset."
   ]
  },
  {
   "cell_type": "code",
   "metadata": {
    "id": "xmqweMcvnUH6",
    "colab": {
     "base_uri": "https://localhost:8080/"
    },
    "outputId": "f10d56ce-4b1b-4925-bc61-58c49b22adb1",
    "pycharm": {
     "name": "#%%\n"
    }
   },
   "source": [
    "from torch_geometric.datasets import TUDataset\n",
    "dataset = TUDataset(root='data/TU', name='PROTEINS', use_node_attr=True)"
   ],
   "execution_count": 28,
   "outputs": [
    {
     "name": "stderr",
     "output_type": "stream",
     "text": [
      "Downloading https://www.chrsmrrs.com/graphkerneldatasets/PROTEINS.zip\n",
      "Extracting data/TU/PROTEINS/PROTEINS.zip\n",
      "Processing...\n",
      "Done!\n"
     ]
    }
   ]
  },
  {
   "cell_type": "markdown",
   "metadata": {
    "id": "_oF1gyKPXiz-",
    "pycharm": {
     "name": "#%% md\n"
    }
   },
   "source": [
    "#### Question 11 (0.25 pt)\n",
    "\n",
    "Unlike in the previous part, where we selected the first element returned by the loading function, note that here we get all the elements returned by `TUDataset()`. `dataset` is an interable object, that has some similar behaviors as a Python list: you can call `len()` on it, and you can takes slices from it.\n",
    "\n",
    "Each element in `dataset` is a `Data` object containing a graph that represents a protein. This is the same type of object that we used in the previous part to store the Cora citation network.\n",
    "\n",
    "Knowing this, answer the following:\n",
    "\n",
    "- How many proteins (graphs) are there in `dataset`?\n",
    "- Take any protein from `dataset`. How many nodes and edges does it contain? What is its label? How many features does each node have?"
   ]
  },
  {
   "cell_type": "code",
   "metadata": {
    "id": "ZNPsnXXbbHHe",
    "pycharm": {
     "name": "#%%\n"
    }
   },
   "source": [
    "# Your answer here\n",
    "print(f'The dataset contains {len(dataset)} proteins')\n",
    "protein = dataset[0]\n",
    "print(f'The first protein of the dataset contains {protein.num_nodes} nodes and {protein.num_edges} edges.')\n",
    "print(f'Also, the proteins label is {protein.y.item()}, which means that the protein is an enzyme')\n",
    "print(f'Each node (protein) consists of {protein.num_features} features')"
   ],
   "execution_count": 39,
   "outputs": [
    {
     "name": "stdout",
     "output_type": "stream",
     "text": [
      "The dataset contains 1113 proteins\n",
      "The first protein of the dataset contains 42 nodes and 162 edges.\n",
      "Also, the proteins label is 0, which means that the protein is an enzyme\n",
      "Each node (protein) consists of 4 features\n"
     ]
    }
   ]
  },
  {
   "cell_type": "markdown",
   "metadata": {
    "id": "kHSklBZXpKpR",
    "pycharm": {
     "name": "#%% md\n"
    }
   },
   "source": [
    "#### Question 12 (0.5 pt)\n",
    "\n",
    "To properly train and evaluate our model, we need training, validation, and test splits.\n",
    "\n",
    "For reproducibility purposes, we generate a random tensor of indices for you. Use it to extract the three splits from `dataset`.\n",
    "\n",
    "For training, take 80% of the indices (starting from the first element in `indices`), then the following 10% for validation, and the remaining 10% for testing. You can use the indices to index `dataset`.\n",
    "\n",
    "Call the resulting splits `train_dataset`, `valid_dataset`, and `test_dataset`."
   ]
  },
  {
   "cell_type": "code",
   "metadata": {
    "id": "ttY4d1GInn08",
    "pycharm": {
     "name": "#%%\n"
    }
   },
   "source": [
    "# Don't erase the following three lines\n",
    "import torch\n",
    "torch.random.manual_seed(0)\n",
    "indices = torch.randperm(len(dataset))\n",
    "\n",
    "# Your answer here\n",
    "n_train = int(len(indices) * 0.8)\n",
    "n_validation = int(len(indices) * 0.1)\n",
    "\n",
    "indices_train = indices[:n_train]\n",
    "indices_val = indices[n_train:n_train + n_validation]\n",
    "indices_test = indices[n_train + n_validation:]\n",
    "\n",
    "train_dataset = dataset[indices_train]\n",
    "valid_dataset = dataset[indices_val]\n",
    "test_dataset = dataset[indices_test]\n",
    "\n",
    "print(f'This split resulted in the following no. instances for the train, validation and test set respectively: {len(train_dataset), len(valid_dataset), len(test_dataset)}')"
   ],
   "execution_count": 60,
   "outputs": [
    {
     "name": "stdout",
     "output_type": "stream",
     "text": [
      "This split resulted in the following no. instances for the train, validation and test set respectively: (890, 111, 112)\n"
     ]
    }
   ]
  },
  {
   "cell_type": "markdown",
   "metadata": {
    "id": "rDJbB4CQqsfp",
    "pycharm": {
     "name": "#%% md\n"
    }
   },
   "source": [
    "### Working with a batch of graphs\n",
    "\n",
    "When working with the Cora dataset, you used the information in `data.edge_index` to build the sparse normalized adjacency matrix $\\hat{A}$ that is required by the GCN. We could do something similar here: for each graph, we build $\\hat{A}$, and pass it to the GCN. However, if the number of graphs is big, this can really slow down training.\n",
    "\n",
    "To avoid this, we will resort to a very useful trick that also allows us to reuse the same GCN you implemented previously. The trick makes it possible to do a forward pass through the GCN for multiple, disconnected graphs at the same time (instead of only one), much like when you train with mini-batches for other kinds of data.\n",
    "\n",
    "Let's first revisit the propagation rule of the GCN, $Z = \\hat{A}XW$, with an illustration (we have omitted the cells of $X$ and $W$ for clarity):\n",
    "\n",
    "<img src=\"https://raw.githubusercontent.com/dfdazac/dlvu-a5/main/img/02-gcn-forward.png\">\n",
    "\n",
    "If we have multiple graphs, we can still use the same propagation rule, if we\n",
    "\n",
    "- Set $\\hat{A}$ to be a block diagonal matrix, where the blocks are the different adjacency matrices of the graphs\n",
    "- Concatenate the feature matrices along the first dimension\n",
    "\n",
    "This is illustrated in the following figure, for a batch of 3 graphs. Note that the elements outside of the blocks are zero.\n",
    "\n",
    "<img src=\"https://raw.githubusercontent.com/dfdazac/dlvu-a5/main/img/02-gcn-batch-forward.png\">\n",
    "\n",
    "The resulting adjacency matrix $\\hat{A}_B$ can also be built as a sparse matrix, and once we have it together with the concatenated matrix of features, the computation of the graph convolution is exactly the same as before. Note how this trick also allows us to process graphs with different sizes and structures.\n"
   ]
  },
  {
   "cell_type": "markdown",
   "metadata": {
    "id": "0DLPJ62b2mQ6",
    "pycharm": {
     "name": "#%% md\n"
    }
   },
   "source": [
    "#### Question 13 (0.5 pt)\n",
    "\n",
    "\n",
    "Just as the citation network, the graphs in each of the datasets you created in Question 12 also have an `edge_index` attribute, which can be used to compute the normalized adjacency matrix $\\hat{A}$, for each graph.\n",
    "\n",
    "Reusing your code for Questions 3 and 5, define a function `get_a_norm()` that takes as input an element of a dataset (e.g. `train_dataset[0]`), and returns a `scipy.sparse` matrix containing $\\hat{A}$.\n",
    "\n",
    "Note that an element of a dataset has properties like `num_edges`, `num_nodes`, etc. which you can use here."
   ]
  },
  {
   "cell_type": "code",
   "metadata": {
    "id": "4nvPX2GB8oXp",
    "pycharm": {
     "name": "#%%\n"
    }
   },
   "source": [
    "# Your answer here\n",
    "def get_a_norm(node):\n",
    "    # The rows and columns can be extracted from the edge_index of the dataset\n",
    "    row = node.edge_index[0]\n",
    "    col = node.edge_index[1]\n",
    "    num_edges = node.edge_index.shape[1]\n",
    "    # All the indices in the row and col vector are connected with each other, therefore we can generate a 1 (connection) for all of them\n",
    "    d = np.ones(num_edges, dtype=np.float32)\n",
    "    coo_mat = coo_matrix((d, (row, col)), shape=(node.num_nodes, node.num_nodes), dtype=np.float32)\n",
    "\n",
    "    a = coo_mat\n",
    "    a_tilde = a + identity(a.shape[0], dtype=np.float32)\n",
    "    diagonal = a_tilde.sum(axis=0, dtype=np.float32).A1\n",
    "    d_tilde = diags(diagonal, dtype=np.float32)\n",
    "    a_hat = d_tilde.power(-.5) @ a_tilde @ d_tilde.power(-.5)\n",
    "    return a_hat"
   ],
   "execution_count": 64,
   "outputs": []
  },
  {
   "cell_type": "code",
   "execution_count": 68,
   "outputs": [
    {
     "name": "stdout",
     "output_type": "stream",
     "text": [
      "We can test this function by passing the first protein (node) of the dataset into it, resulting in a scipy.sparse matrix which contains A hat:\n",
      "  (0, 0)\t0.19999999\n",
      "  (0, 1)\t0.19999999\n",
      "  (0, 2)\t0.19999999\n",
      "  (0, 17)\t0.2236068\n",
      "  (0, 18)\t0.2236068\n",
      "  (1, 0)\t0.19999999\n",
      "  (1, 1)\t0.19999999\n",
      "  (1, 2)\t0.19999999\n",
      "  (1, 17)\t0.2236068\n",
      "  (1, 18)\t0.2236068\n",
      "  (2, 0)\t0.19999999\n",
      "  (2, 1)\t0.19999999\n",
      "  (2, 2)\t0.19999999\n",
      "  (2, 3)\t0.19999999\n",
      "  (2, 16)\t0.1825742\n",
      "  (3, 2)\t0.19999999\n",
      "  (3, 3)\t0.19999999\n",
      "  (3, 4)\t0.1825742\n",
      "  (3, 16)\t0.1825742\n",
      "  (3, 19)\t0.19999999\n",
      "  (4, 3)\t0.1825742\n",
      "  (4, 4)\t0.16666667\n",
      "  (4, 5)\t0.20412415\n",
      "  (4, 20)\t0.16666667\n",
      "  (4, 22)\t0.16666667\n",
      "  :\t:\n",
      "  (26, 13)\t0.1825742\n",
      "  (26, 26)\t0.16666667\n",
      "  (26, 27)\t0.1825742\n",
      "  (26, 29)\t0.16666667\n",
      "  (26, 30)\t0.20412415\n",
      "  (27, 12)\t0.2236068\n",
      "  (27, 26)\t0.1825742\n",
      "  (27, 27)\t0.19999999\n",
      "  (27, 28)\t0.19999999\n",
      "  (27, 29)\t0.1825742\n",
      "  (28, 10)\t0.2236068\n",
      "  (28, 11)\t0.2236068\n",
      "  (28, 12)\t0.2236068\n",
      "  (28, 27)\t0.19999999\n",
      "  (28, 28)\t0.19999999\n",
      "  (29, 13)\t0.1825742\n",
      "  (29, 14)\t0.20412415\n",
      "  (29, 26)\t0.16666667\n",
      "  (29, 27)\t0.1825742\n",
      "  (29, 29)\t0.16666667\n",
      "  (29, 30)\t0.20412415\n",
      "  (30, 15)\t0.25\n",
      "  (30, 26)\t0.20412415\n",
      "  (30, 29)\t0.20412415\n",
      "  (30, 30)\t0.25\n"
     ]
    }
   ],
   "source": [
    "print(f'We can test this function by passing the first protein (node) of the dataset into it, resulting in a scipy.sparse matrix which contains A hat:\\n{get_a_norm(train_dataset[0])}')"
   ],
   "metadata": {
    "collapsed": false,
    "pycharm": {
     "name": "#%%\n"
    }
   }
  },
  {
   "cell_type": "markdown",
   "metadata": {
    "id": "cBrmYBY3AfhW",
    "pycharm": {
     "name": "#%% md\n"
    }
   },
   "source": [
    "#### Question 14 (1 pt)\n",
    "\n",
    "To prepare the batch of graphs, we need to collect multiple adjacency matrices, feature matrices, and labels.\n",
    "\n",
    "When using the trick described in the last figure, we see that we have to keep track of when a graph starts and when it ends, so that we can later differentiate the outputs due to $X^{(0)}$, $X^{(1)}$, etc. To achieve this, we will additionally collect a 1D array of batch indices, one for each $X^{(i)}$.\n",
    "\n",
    "The 1D array has as many elements as rows in $X^{(i)}$, and it is filled with the value $i$ (the position of $X^{(i)}$ in the batch):\n",
    "\n",
    "<img src=\"https://raw.githubusercontent.com/dfdazac/dlvu-a5/main/img/03-batch-indices.png\">\n",
    "\n",
    "We will later concatenate all the 1D arrays along the first dimension, just as we will do with all the $X^{(i)}$.\n",
    "\n",
    "Define a function `prepare_graphs_batch()` that takes as input a dataset (e.g. `train_dataset`), and does the following\n",
    "\n",
    "- Create four empty lists:\n",
    "  - `adj_matrices`\n",
    "  - `feature_matrices`\n",
    "  - `batch_indices`\n",
    "  - `labels`\n",
    "- Iterate over the input dataset, getting one graph at a time. At each step, use your function from Question 13 to append the adjacency matrix to `adj_matrices`, append the matrix of input features to `feature_matrices`, create the array of batch indices (as explained above) and append it to `batch_indices`, and append the label of the graph to `labels`. **Make sure to convert the label to float**.\n",
    "- Once the loop is over, use `scipy.sparse.block_diag()` to build the block diagonal matrix $\\hat{A}_B$. Convert it to the COO format, and then use your answer to Question 6 to turn it into a sparse PyTorch tensor.\n",
    "- Use `torch.cat()` to concatenate the tensors in `feature_matrices` along the first dimension. Do this also for `batch_indices` and `labels`.\n",
    "- Return the 4 tensors computed in the previous two items."
   ]
  },
  {
   "cell_type": "code",
   "metadata": {
    "id": "SsQ0-JjSqFgD",
    "pycharm": {
     "name": "#%%\n"
    }
   },
   "source": [
    "from scipy.sparse import block_diag\n",
    "\n",
    "# Your answer here\n",
    "def prepare_graphs_batch(dataset):\n",
    "    adj_matrices, feature_matrices, batch_indices, labels = [], [], [], []\n",
    "    tot_nodes = 0\n",
    "\n",
    "    for i, graph in enumerate(dataset):\n",
    "        adj_matrix = get_a_norm(node=graph)\n",
    "        adj_matrices.append(adj_matrix)\n",
    "        feature_matrices.append(graph.x)\n",
    "        batch_index = torch.tensor([i]).repeat(graph.num_nodes)\n",
    "        tot_nodes += graph.num_nodes\n",
    "        batch_indices.append(batch_index)\n",
    "        labels.append(graph.y.to(torch.float))\n",
    "    A_hat_block = block_diag(feature_matrices)\n",
    "\n",
    "    indices = torch.tensor([np.arange(A_hat_block.shape[1]), np.arange(A_hat_block.shape[1])])\n",
    "    values = torch.tensor(np.array(np.diagonal(A_hat_block.toarray())))\n",
    "    sparse_coo = sparse_coo_tensor(indices, values, dtype=torch.float)\n",
    "    print(sparse_coo)\n",
    "    return\n",
    "\n"
   ],
   "execution_count": 122,
   "outputs": []
  },
  {
   "cell_type": "code",
   "execution_count": 123,
   "outputs": [
    {
     "ename": "KeyboardInterrupt",
     "evalue": "",
     "output_type": "error",
     "traceback": [
      "\u001B[0;31m---------------------------------------------------------------------------\u001B[0m",
      "\u001B[0;31mKeyboardInterrupt\u001B[0m                         Traceback (most recent call last)",
      "Cell \u001B[0;32mIn[123], line 1\u001B[0m\n\u001B[0;32m----> 1\u001B[0m \u001B[43mprepare_graphs_batch\u001B[49m\u001B[43m(\u001B[49m\u001B[43mdataset\u001B[49m\u001B[38;5;241;43m=\u001B[39;49m\u001B[43mtrain_dataset\u001B[49m\u001B[43m)\u001B[49m\n",
      "Cell \u001B[0;32mIn[122], line 19\u001B[0m, in \u001B[0;36mprepare_graphs_batch\u001B[0;34m(dataset)\u001B[0m\n\u001B[1;32m     16\u001B[0m A_hat_block \u001B[38;5;241m=\u001B[39m block_diag(feature_matrices)\n\u001B[1;32m     18\u001B[0m indices \u001B[38;5;241m=\u001B[39m torch\u001B[38;5;241m.\u001B[39mtensor([np\u001B[38;5;241m.\u001B[39marange(A_hat_block\u001B[38;5;241m.\u001B[39mshape[\u001B[38;5;241m1\u001B[39m]), np\u001B[38;5;241m.\u001B[39marange(A_hat_block\u001B[38;5;241m.\u001B[39mshape[\u001B[38;5;241m1\u001B[39m])])\n\u001B[0;32m---> 19\u001B[0m values \u001B[38;5;241m=\u001B[39m \u001B[43mtorch\u001B[49m\u001B[38;5;241m.\u001B[39mtensor(np\u001B[38;5;241m.\u001B[39marray(np\u001B[38;5;241m.\u001B[39mdiagonal(A_hat_block\u001B[38;5;241m.\u001B[39mtoarray())))\n\u001B[1;32m     20\u001B[0m sparse_coo \u001B[38;5;241m=\u001B[39m sparse_coo_tensor(indices, values, dtype\u001B[38;5;241m=\u001B[39mtorch\u001B[38;5;241m.\u001B[39mfloat)\n\u001B[1;32m     21\u001B[0m \u001B[38;5;28mprint\u001B[39m(sparse_coo)\n",
      "Cell \u001B[0;32mIn[122], line 19\u001B[0m, in \u001B[0;36mprepare_graphs_batch\u001B[0;34m(dataset)\u001B[0m\n\u001B[1;32m     16\u001B[0m A_hat_block \u001B[38;5;241m=\u001B[39m block_diag(feature_matrices)\n\u001B[1;32m     18\u001B[0m indices \u001B[38;5;241m=\u001B[39m torch\u001B[38;5;241m.\u001B[39mtensor([np\u001B[38;5;241m.\u001B[39marange(A_hat_block\u001B[38;5;241m.\u001B[39mshape[\u001B[38;5;241m1\u001B[39m]), np\u001B[38;5;241m.\u001B[39marange(A_hat_block\u001B[38;5;241m.\u001B[39mshape[\u001B[38;5;241m1\u001B[39m])])\n\u001B[0;32m---> 19\u001B[0m values \u001B[38;5;241m=\u001B[39m \u001B[43mtorch\u001B[49m\u001B[38;5;241m.\u001B[39mtensor(np\u001B[38;5;241m.\u001B[39marray(np\u001B[38;5;241m.\u001B[39mdiagonal(A_hat_block\u001B[38;5;241m.\u001B[39mtoarray())))\n\u001B[1;32m     20\u001B[0m sparse_coo \u001B[38;5;241m=\u001B[39m sparse_coo_tensor(indices, values, dtype\u001B[38;5;241m=\u001B[39mtorch\u001B[38;5;241m.\u001B[39mfloat)\n\u001B[1;32m     21\u001B[0m \u001B[38;5;28mprint\u001B[39m(sparse_coo)\n",
      "File \u001B[0;32m/Applications/PyCharm.app/Contents/plugins/python/helpers/pydev/_pydevd_bundle/pydevd_frame.py:747\u001B[0m, in \u001B[0;36mPyDBFrame.trace_dispatch\u001B[0;34m(self, frame, event, arg)\u001B[0m\n\u001B[1;32m    745\u001B[0m \u001B[38;5;66;03m# if thread has a suspend flag, we suspend with a busy wait\u001B[39;00m\n\u001B[1;32m    746\u001B[0m \u001B[38;5;28;01mif\u001B[39;00m info\u001B[38;5;241m.\u001B[39mpydev_state \u001B[38;5;241m==\u001B[39m STATE_SUSPEND:\n\u001B[0;32m--> 747\u001B[0m     \u001B[38;5;28;43mself\u001B[39;49m\u001B[38;5;241;43m.\u001B[39;49m\u001B[43mdo_wait_suspend\u001B[49m\u001B[43m(\u001B[49m\u001B[43mthread\u001B[49m\u001B[43m,\u001B[49m\u001B[43m \u001B[49m\u001B[43mframe\u001B[49m\u001B[43m,\u001B[49m\u001B[43m \u001B[49m\u001B[43mevent\u001B[49m\u001B[43m,\u001B[49m\u001B[43m \u001B[49m\u001B[43marg\u001B[49m\u001B[43m)\u001B[49m\n\u001B[1;32m    748\u001B[0m     \u001B[38;5;66;03m# No need to reset frame.f_trace to keep the same trace function.\u001B[39;00m\n\u001B[1;32m    749\u001B[0m     \u001B[38;5;28;01mreturn\u001B[39;00m \u001B[38;5;28mself\u001B[39m\u001B[38;5;241m.\u001B[39mtrace_dispatch\n",
      "File \u001B[0;32m/Applications/PyCharm.app/Contents/plugins/python/helpers/pydev/_pydevd_bundle/pydevd_frame.py:144\u001B[0m, in \u001B[0;36mPyDBFrame.do_wait_suspend\u001B[0;34m(self, *args, **kwargs)\u001B[0m\n\u001B[1;32m    143\u001B[0m \u001B[38;5;28;01mdef\u001B[39;00m \u001B[38;5;21mdo_wait_suspend\u001B[39m(\u001B[38;5;28mself\u001B[39m, \u001B[38;5;241m*\u001B[39margs, \u001B[38;5;241m*\u001B[39m\u001B[38;5;241m*\u001B[39mkwargs):\n\u001B[0;32m--> 144\u001B[0m     \u001B[38;5;28;43mself\u001B[39;49m\u001B[38;5;241;43m.\u001B[39;49m\u001B[43m_args\u001B[49m\u001B[43m[\u001B[49m\u001B[38;5;241;43m0\u001B[39;49m\u001B[43m]\u001B[49m\u001B[38;5;241;43m.\u001B[39;49m\u001B[43mdo_wait_suspend\u001B[49m\u001B[43m(\u001B[49m\u001B[38;5;241;43m*\u001B[39;49m\u001B[43margs\u001B[49m\u001B[43m,\u001B[49m\u001B[43m \u001B[49m\u001B[38;5;241;43m*\u001B[39;49m\u001B[38;5;241;43m*\u001B[39;49m\u001B[43mkwargs\u001B[49m\u001B[43m)\u001B[49m\n",
      "File \u001B[0;32m/Applications/PyCharm.app/Contents/plugins/python/helpers/pydev/pydevd.py:1155\u001B[0m, in \u001B[0;36mPyDB.do_wait_suspend\u001B[0;34m(self, thread, frame, event, arg, send_suspend_message, is_unhandled_exception)\u001B[0m\n\u001B[1;32m   1152\u001B[0m         from_this_thread\u001B[38;5;241m.\u001B[39mappend(frame_id)\n\u001B[1;32m   1154\u001B[0m \u001B[38;5;28;01mwith\u001B[39;00m \u001B[38;5;28mself\u001B[39m\u001B[38;5;241m.\u001B[39m_threads_suspended_single_notification\u001B[38;5;241m.\u001B[39mnotify_thread_suspended(thread_id, stop_reason):\n\u001B[0;32m-> 1155\u001B[0m     \u001B[38;5;28;43mself\u001B[39;49m\u001B[38;5;241;43m.\u001B[39;49m\u001B[43m_do_wait_suspend\u001B[49m\u001B[43m(\u001B[49m\u001B[43mthread\u001B[49m\u001B[43m,\u001B[49m\u001B[43m \u001B[49m\u001B[43mframe\u001B[49m\u001B[43m,\u001B[49m\u001B[43m \u001B[49m\u001B[43mevent\u001B[49m\u001B[43m,\u001B[49m\u001B[43m \u001B[49m\u001B[43marg\u001B[49m\u001B[43m,\u001B[49m\u001B[43m \u001B[49m\u001B[43msuspend_type\u001B[49m\u001B[43m,\u001B[49m\u001B[43m \u001B[49m\u001B[43mfrom_this_thread\u001B[49m\u001B[43m)\u001B[49m\n",
      "File \u001B[0;32m/Applications/PyCharm.app/Contents/plugins/python/helpers/pydev/pydevd.py:1170\u001B[0m, in \u001B[0;36mPyDB._do_wait_suspend\u001B[0;34m(self, thread, frame, event, arg, suspend_type, from_this_thread)\u001B[0m\n\u001B[1;32m   1167\u001B[0m             \u001B[38;5;28mself\u001B[39m\u001B[38;5;241m.\u001B[39m_call_mpl_hook()\n\u001B[1;32m   1169\u001B[0m         \u001B[38;5;28mself\u001B[39m\u001B[38;5;241m.\u001B[39mprocess_internal_commands()\n\u001B[0;32m-> 1170\u001B[0m         \u001B[43mtime\u001B[49m\u001B[38;5;241;43m.\u001B[39;49m\u001B[43msleep\u001B[49m\u001B[43m(\u001B[49m\u001B[38;5;241;43m0.01\u001B[39;49m\u001B[43m)\u001B[49m\n\u001B[1;32m   1172\u001B[0m \u001B[38;5;28mself\u001B[39m\u001B[38;5;241m.\u001B[39mcancel_async_evaluation(get_current_thread_id(thread), \u001B[38;5;28mstr\u001B[39m(\u001B[38;5;28mid\u001B[39m(frame)))\n\u001B[1;32m   1174\u001B[0m \u001B[38;5;66;03m# process any stepping instructions\u001B[39;00m\n",
      "\u001B[0;31mKeyboardInterrupt\u001B[0m: "
     ]
    }
   ],
   "source": [
    "prepare_graphs_batch(dataset=train_dataset)"
   ],
   "metadata": {
    "collapsed": false,
    "pycharm": {
     "name": "#%%\n"
    }
   }
  },
  {
   "cell_type": "markdown",
   "metadata": {
    "id": "i73P_EU0MSPX",
    "pycharm": {
     "name": "#%% md\n"
    }
   },
   "source": [
    "Once your answer for the previous question is ready, you can run the next cell to prepare all the required information, for the train, validation, and test splits."
   ]
  },
  {
   "cell_type": "code",
   "metadata": {
    "id": "Iol5FxJGMmAU",
    "pycharm": {
     "name": "#%%\n"
    }
   },
   "source": [
    "train_a_norm, train_features, train_batch_idx, train_labels = prepare_graphs_batch(train_dataset)\n",
    "valid_a_norm, valid_features, valid_batch_idx, valid_labels = prepare_graphs_batch(valid_dataset)\n",
    "test_a_norm, test_features, test_batch_idx, test_labels = prepare_graphs_batch(test_dataset)"
   ],
   "execution_count": null,
   "outputs": []
  },
  {
   "cell_type": "markdown",
   "metadata": {
    "id": "R6q-JU87NClh",
    "pycharm": {
     "name": "#%% md\n"
    }
   },
   "source": [
    "### GCNs for graph classification\n",
    "\n",
    "We now have all the ingredients to pass a batch of graphs to a GCN. However, for each graph in the batch, the output $Z^{(i)}$ contains one row for each node in the graph. If the goal is to do classification at the graph level, we have to *pool* these vectors to then compute the required logits for classification.\n",
    "\n",
    "This operation is similar as how pooling works in a CNN. We could consider taking the mean of the vectors, the sum, or use max-pooling. The difference with respect to CNNs is that in our case, we have a batch of graphs, each potentially with a different number of nodes.\n",
    "\n",
    "To implement this specific pooling, we can use the scatter operation in the `torch_scatter` library, which comes when installing PyG. We will use it, together with the tensor of batch indices from the previous two questions, to pool the outputs of the GCN for each graph, into a single vector:\n",
    "\n",
    "<img src=\"https://raw.githubusercontent.com/dfdazac/dlvu-a5/main/img/04-scatter.png\">\n",
    "\n",
    "You can check more details in the [documentation](https://pytorch-scatter.readthedocs.io/en/latest/functions/scatter.html)."
   ]
  },
  {
   "cell_type": "markdown",
   "metadata": {
    "id": "QY87DX1uRhnY",
    "pycharm": {
     "name": "#%% md\n"
    }
   },
   "source": [
    "#### Question 15 (1.0 pt)\n",
    "\n",
    "Implement a `GraphClassifier` module using PyTorch.\n",
    "\n",
    "- The constructor should take as arguments the number of input features, the hidden dimension, and the number of classes.\n",
    "- The model should contain a instance of the `GCN` module (as you implemented it in Question 8). Use the same value for the hidden dimension and the number of output features (recall that your `GCN` module from Question 8 has two GCN layers).\n",
    "- The model should also contain a `torch.nn.Linear` layer, with the hidden dimension as the input features, and the number of classes as the output.\n",
    "- The forward method receives the concatenated matrix of features, the sparse block diagonal adjacency matrix, and the batch indices (the latter is used when calling `scatter`).\n",
    "- Use the following architecture in the forward pass:\n",
    "  - GCN $\\to$ ReLU $\\to$ scatter (max) $\\to$ Linear.\n",
    "\n",
    "The output of the forward should be a 1D tensor (you might need to call `squeeze` to get rid of extra dimensions) containing the logits for all graphs in the batch, for the binary classification task."
   ]
  },
  {
   "cell_type": "code",
   "metadata": {
    "id": "750WraywwYDH",
    "pycharm": {
     "name": "#%%\n"
    }
   },
   "source": [
    "# Your answer here\n"
   ],
   "execution_count": null,
   "outputs": []
  },
  {
   "cell_type": "markdown",
   "metadata": {
    "id": "h0QHnn6dV87J",
    "pycharm": {
     "name": "#%% md\n"
    }
   },
   "source": []
  },
  {
   "cell_type": "markdown",
   "metadata": {
    "id": "C1PHy-_vTjgh",
    "pycharm": {
     "name": "#%% md\n"
    }
   },
   "source": [
    "#### Question 16 (1.5 pt)\n",
    "\n",
    "Implement a training loop for the graph classifier. Use the data from Question 14 to train and evaluate the model.\n",
    "\n",
    "We encourage you to use a GPU in this section for faster training. Note that if you change the runtime at this point, you must re-execute several of the cells above, including the ones that install PyG.\n",
    "\n",
    "- Instantiate a classifier with 32 as the hidden dimension\n",
    "- Use Adam with a learning rate of 1e-3.\n",
    "- Use `torch.nn.BCEWithLogitsLoss` as the loss function.\n",
    "- Train for 5,000 epochs. Once training is done, plot the loss curve and the accuracy in the validation set. Then report the accuracy in the test set.\n",
    "\n",
    "**Note:** the logits from the output of the classifier come from a linear layer. To compute actual predictions for the calculation of the accuracy, pass the logits through `torch.sigmoid()`, and set the predicted values to 1 whenever they are greater than 0.5, and to 0 otherwise.\n",
    "\n",
    "You should get an accuracy equal to or higher than 70% in the validation and test sets. Can you beat the [state-of-the-art](https://paperswithcode.com/sota/graph-classification-on-proteins)? Feel free to modify your architecture and experiment with it.\n",
    "\n",
    "Discuss what you observe during training and your results."
   ]
  },
  {
   "cell_type": "code",
   "metadata": {
    "id": "9DbGAs8W2Xja",
    "pycharm": {
     "name": "#%%\n"
    }
   },
   "source": [
    "# If your runtime is GPU-enabled, use .to(device) to move the model\n",
    "# and all the relevant tensors to the GPU. You have to move tensors back to CPU\n",
    "# when computing metrics like accuracy, using .cpu().\n",
    "device = torch.device('cuda') if torch.cuda.is_available() else 'cpu'\n",
    "\n",
    "# Your answer here\n"
   ],
   "execution_count": null,
   "outputs": []
  },
  {
   "cell_type": "markdown",
   "metadata": {
    "id": "MvmAfDNMcnKD",
    "pycharm": {
     "name": "#%% md\n"
    }
   },
   "source": [
    "## The end\n",
    "\n",
    "If you have made it all the way here successfully, congratulations! 🎉 \n",
    "\n",
    "You have implemented your own GCN and tested it on a node classification task, and a more challenging classification task over multiple graphs.\n",
    "\n",
    "We hope you can use this knowledge to apply GCNs not only to the tasks described here, but other applications where data can be modeled as a graph.\n",
    "\n",
    "If you are interested in applying graph neural networks to larger graphs, or try newer architectures, you can dive deeper into [PyTorch Geometric](https://pytorch-geometric.readthedocs.io/en/latest/), a library with fast implementations for a wide range of architectures. It also comes with custom code that takes care of aspects that you dealt with manually for this assignment, like a more efficient implementation of the adjacency matrix multiplication via message-passing methods, and Data Loaders that relieve you from having to build block diagonal sparse matrices.\n",
    "\n",
    "You can also check the [Deep Graph Library](https://docs.dgl.ai/) another powerful library for deep learning on graphs which also integrates with other backends like TensorFlow."
   ]
  },
  {
   "cell_type": "markdown",
   "metadata": {
    "id": "l7QhyAMms8-L",
    "pycharm": {
     "name": "#%% md\n"
    }
   },
   "source": [
    "# Grading (10pt)"
   ]
  },
  {
   "cell_type": "markdown",
   "metadata": {
    "id": "juIdxXhos-mV",
    "pycharm": {
     "name": "#%% md\n"
    }
   },
   "source": [
    "- Question 1: 0.25pt \n",
    "- Question 2: 0.25pt \n",
    "- Question 3: 0.5pt \n",
    "- Question 4: 0.25pt \n",
    "- Question 5: 0.5pt \n",
    "- Question 6: 0.5pt \n",
    "- Question 7: 0.5pt \n",
    "- Question 8: 0.5pt \n",
    "- Question 9: 1.5pt \n",
    "- Question 10: 0.5pt \n",
    "- Question 11: 0.25pt \n",
    "- Question 12: 0.5pt \n",
    "- Question 13: 0.5pt \n",
    "- Question 14: 1pt\n",
    "- Question 15: 1pt\n",
    "- Question 16: 1.5pt"
   ]
  }
 ]
}